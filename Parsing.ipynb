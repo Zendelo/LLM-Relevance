{
 "cells": [
  {
   "cell_type": "code",
   "id": "initial_id",
   "metadata": {
    "collapsed": true,
    "ExecuteTime": {
     "end_time": "2024-07-01T07:09:09.055413Z",
     "start_time": "2024-07-01T07:09:07.726662Z"
    }
   },
   "source": [
    "from glob import glob\n",
    "\n",
    "import krippendorff\n",
    "import numpy as np\n",
    "import pandas as pd\n",
    "from matplotlib import pyplot as plt\n",
    "from scipy.stats import kendalltau\n",
    "from sklearn.metrics import cohen_kappa_score, classification_report, ConfusionMatrixDisplay\n",
    "import farrow_and_ball as fb"
   ],
   "outputs": [],
   "execution_count": 1
  },
  {
   "metadata": {
    "ExecuteTime": {
     "end_time": "2024-07-01T07:09:09.068293Z",
     "start_time": "2024-07-01T07:09:09.057149Z"
    }
   },
   "cell_type": "code",
   "source": [
    "import functools\n",
    "\n",
    "# plt set default parameters\n",
    "plt.rcParams.update(plt.rcParamsDefault)\n",
    "#set plt log level to info\n",
    "plt.set_loglevel('INFO')\n",
    "\n",
    "\n",
    "def plot_confusion_matrix(y_true, y_pred, labels, cmap=None, colorbar=False):\n",
    "    if cmap is None:\n",
    "        cmap = fb.build_colormap(fb.BaseColorPalette.PINKS, continuous=True, reverse=False)\n",
    "    fig, ax = plt.subplots(figsize=(2, 2), dpi=300)\n",
    "    disp = ConfusionMatrixDisplay.from_predictions(y_true, y_pred, labels=labels, cmap=cmap, ax=ax, colorbar=colorbar)\n",
    "    # return partial function to plot confusion matrix\n",
    "    return disp.plot(ax=ax, cmap=cmap, colorbar=colorbar)\n",
    "\n",
    "\n",
    "def judgements_evaluation_report(eval_df, true_col='true', predicted_col='predicted'):\n",
    "    print(classification_report(eval_df[true_col], eval_df[predicted_col], labels=[0, 1, 2, 3]))\n",
    "    _k = krippendorff.alpha(eval_df[[true_col, predicted_col]].T, level_of_measurement='ordinal',\n",
    "                            value_domain=[0, 1, 2, 3])\n",
    "    _kappa = cohen_kappa_score(eval_df[true_col], eval_df[predicted_col])\n",
    "    _pearson = np.corrcoef(eval_df[true_col], eval_df[predicted_col])[0, 1]\n",
    "    _kendall = kendalltau(eval_df[true_col], eval_df[predicted_col]).correlation\n",
    "    _mae = np.abs(eval_df[true_col] - eval_df[predicted_col]).mean()\n",
    "    return _k, _kappa, _pearson, _kendall, _mae\n",
    "\n",
    "\n",
    "def eval_predictions(predictions_df, model_name, true_col='true', predicted_col='predicted', labels=(0, 1, 2, 3)):\n",
    "    _k, _kappa, _pearson, _kendall, _mae = judgements_evaluation_report(predictions_df, true_col=true_col,\n",
    "                                                                        predicted_col=predicted_col)\n",
    "    print(f\"Krippendorff's alpha for {model_name} on the validation set: {_k:.3f}\")\n",
    "    print(f\"Cohen's kappa for {model_name} on the validation set: {_kappa:.3f}\")\n",
    "    print(f\"Pearson correlation for {model_name} on the validation set: {_pearson:.3f}\")\n",
    "    print(f\"Kendall's tau for {model_name} on the validation set: {_kendall:.3f}\")\n",
    "    print(f\"Mean Absolute Error (MAE) for {model_name} on the validation set: {_mae:.3f}\")\n",
    "\n",
    "    plot_confusion_matrix(predictions_df[true_col], predictions_df[predicted_col], labels=labels)\n",
    "    plt.title(model_name, fontsize='small')\n",
    "    plt.savefig(f'plots/{model_name}_cm.pdf', bbox_inches='tight', dpi=300)\n",
    "    plt.show()"
   ],
   "id": "4253271f771a36b0",
   "outputs": [],
   "execution_count": 2
  },
  {
   "metadata": {
    "ExecuteTime": {
     "end_time": "2024-07-01T07:29:47.036869Z",
     "start_time": "2024-07-01T07:29:47.012435Z"
    }
   },
   "cell_type": "code",
   "source": [
    "# load validation df\n",
    "# val_qrel_df = pd.read_table('test-qrel-1.txt', header=None, delim_whitespace=True,\n",
    "#                             names=['qid', 'Q0', 'docid', 'relevance']).drop(columns=['Q0'], errors='ignore').set_index(\n",
    "#     ['qid', 'docid']).sort_index()\n",
    "# val_qrel_df\n",
    "\n",
    "val_qrel_df = pd.read_table('val_set_qrel.tsv', delim_whitespace=True)\n",
    "val_qrel_df"
   ],
   "id": "22d52812c19a5f8",
   "outputs": [
    {
     "data": {
      "text/plain": [
       "      qid  Q0   docid  relevance\n",
       "0     q26   0   p1668          0\n",
       "1     q26   0   p3564          0\n",
       "2     q26   0    p148          0\n",
       "3     q26   0  p10159          1\n",
       "4     q26   0   p4522          0\n",
       "...   ...  ..     ...        ...\n",
       "1726  q48   0  p11513          0\n",
       "1727  q48   0   p9676          0\n",
       "1728  q48   0    p688          0\n",
       "1729  q48   0   p8574          3\n",
       "1730  q48   0   p6475          3\n",
       "\n",
       "[1731 rows x 4 columns]"
      ],
      "text/html": [
       "<div>\n",
       "<style scoped>\n",
       "    .dataframe tbody tr th:only-of-type {\n",
       "        vertical-align: middle;\n",
       "    }\n",
       "\n",
       "    .dataframe tbody tr th {\n",
       "        vertical-align: top;\n",
       "    }\n",
       "\n",
       "    .dataframe thead th {\n",
       "        text-align: right;\n",
       "    }\n",
       "</style>\n",
       "<table border=\"1\" class=\"dataframe\">\n",
       "  <thead>\n",
       "    <tr style=\"text-align: right;\">\n",
       "      <th></th>\n",
       "      <th>qid</th>\n",
       "      <th>Q0</th>\n",
       "      <th>docid</th>\n",
       "      <th>relevance</th>\n",
       "    </tr>\n",
       "  </thead>\n",
       "  <tbody>\n",
       "    <tr>\n",
       "      <th>0</th>\n",
       "      <td>q26</td>\n",
       "      <td>0</td>\n",
       "      <td>p1668</td>\n",
       "      <td>0</td>\n",
       "    </tr>\n",
       "    <tr>\n",
       "      <th>1</th>\n",
       "      <td>q26</td>\n",
       "      <td>0</td>\n",
       "      <td>p3564</td>\n",
       "      <td>0</td>\n",
       "    </tr>\n",
       "    <tr>\n",
       "      <th>2</th>\n",
       "      <td>q26</td>\n",
       "      <td>0</td>\n",
       "      <td>p148</td>\n",
       "      <td>0</td>\n",
       "    </tr>\n",
       "    <tr>\n",
       "      <th>3</th>\n",
       "      <td>q26</td>\n",
       "      <td>0</td>\n",
       "      <td>p10159</td>\n",
       "      <td>1</td>\n",
       "    </tr>\n",
       "    <tr>\n",
       "      <th>4</th>\n",
       "      <td>q26</td>\n",
       "      <td>0</td>\n",
       "      <td>p4522</td>\n",
       "      <td>0</td>\n",
       "    </tr>\n",
       "    <tr>\n",
       "      <th>...</th>\n",
       "      <td>...</td>\n",
       "      <td>...</td>\n",
       "      <td>...</td>\n",
       "      <td>...</td>\n",
       "    </tr>\n",
       "    <tr>\n",
       "      <th>1726</th>\n",
       "      <td>q48</td>\n",
       "      <td>0</td>\n",
       "      <td>p11513</td>\n",
       "      <td>0</td>\n",
       "    </tr>\n",
       "    <tr>\n",
       "      <th>1727</th>\n",
       "      <td>q48</td>\n",
       "      <td>0</td>\n",
       "      <td>p9676</td>\n",
       "      <td>0</td>\n",
       "    </tr>\n",
       "    <tr>\n",
       "      <th>1728</th>\n",
       "      <td>q48</td>\n",
       "      <td>0</td>\n",
       "      <td>p688</td>\n",
       "      <td>0</td>\n",
       "    </tr>\n",
       "    <tr>\n",
       "      <th>1729</th>\n",
       "      <td>q48</td>\n",
       "      <td>0</td>\n",
       "      <td>p8574</td>\n",
       "      <td>3</td>\n",
       "    </tr>\n",
       "    <tr>\n",
       "      <th>1730</th>\n",
       "      <td>q48</td>\n",
       "      <td>0</td>\n",
       "      <td>p6475</td>\n",
       "      <td>3</td>\n",
       "    </tr>\n",
       "  </tbody>\n",
       "</table>\n",
       "<p>1731 rows × 4 columns</p>\n",
       "</div>"
      ]
     },
     "execution_count": 22,
     "metadata": {},
     "output_type": "execute_result"
    }
   ],
   "execution_count": 22
  },
  {
   "metadata": {
    "ExecuteTime": {
     "end_time": "2024-07-01T07:29:50.533069Z",
     "start_time": "2024-07-01T07:29:50.522243Z"
    }
   },
   "cell_type": "code",
   "source": [
    "def read_predictions_df(file_path, val_qrel_df, rsplit=False) -> pd.DataFrame:\n",
    "    raw_output_df = pd.concat([pd.read_table(f) for f in glob(file_path)])\n",
    "    if rsplit:\n",
    "        _temp_df = raw_output_df['prediction'].str.rsplit(',', n=1, expand=True)\n",
    "        raw_output_df = raw_output_df.assign(\n",
    "            predicted=_temp_df[1].str.split(':', n=1, expand=True)[1].str.strip().str.strip(\n",
    "                '\"}').astype(int),\n",
    "            explanation=_temp_df[0].str.split(':', n=1, expand=True)[1].str.strip().str.strip(\n",
    "                '\"}'))\n",
    "    else:\n",
    "        _temp_df = raw_output_df['prediction'].str.split(',', n=1, expand=True)\n",
    "        raw_output_df = raw_output_df.assign(\n",
    "            predicted=_temp_df[0].str.split(':', n=1, expand=True)[1].str.strip().astype(int),\n",
    "            explanation=_temp_df[1].str.split(':', n=1, expand=True)[1].str.strip().str.strip(\n",
    "                '\"}'))\n",
    "    raw_output_df = raw_output_df.join(val_qrel_df.set_index(['qid', 'docid']), on=['qid', 'docid'])\n",
    "    return raw_output_df.drop(columns=['prediction'])"
   ],
   "id": "64d7152634ddfb50",
   "outputs": [],
   "execution_count": 23
  },
  {
   "metadata": {
    "ExecuteTime": {
     "end_time": "2024-07-01T07:35:09.712544Z",
     "start_time": "2024-07-01T07:35:09.681262Z"
    }
   },
   "cell_type": "code",
   "source": [
    "file_path = 'p-mult-1_Meta-Llama-3-70B-Instruct.tsv'\n",
    "mult_llama70 = pd.read_table(file_path).drop(columns='Q0').join(val_qrel_df.set_index(['qid', 'docid']),\n",
    "                                                                on=['qid', 'docid'])\n",
    "mult_llama70"
   ],
   "id": "fc4f509b6b7a7b5b",
   "outputs": [
    {
     "data": {
      "text/plain": [
       "      qid   docid                                        explanation  \\\n",
       "0     q26   p1668  Mentions the Caribbean in the context of a bir...   \n",
       "1     q26   p3564  Provides specific information about the locati...   \n",
       "2     q26    p148      Appears to be a citation for a research paper   \n",
       "3     q26  p10159  Mentions the Caribbean coastline in the contex...   \n",
       "4     q26   p4522  Focused on a specific location and a wildlife ...   \n",
       "...   ...     ...                                                ...   \n",
       "1726  q48  p11513  Directly answers the query with a once-weekly ...   \n",
       "1727  q48   p9676  Unrelated to the query, discussing general wor...   \n",
       "1728  q48    p688  Discusses ideal frequency of strength training...   \n",
       "1729  q48   p8574   Focuses on a specific exercise and its frequency   \n",
       "1730  q48   p6475  Mentions training once a week as a possible fr...   \n",
       "\n",
       "      prediction  Q0  relevance  \n",
       "0              1   0          0  \n",
       "1              2   0          0  \n",
       "2              0   0          0  \n",
       "3              1   0          1  \n",
       "4              1   0          0  \n",
       "...          ...  ..        ...  \n",
       "1726           3   0          0  \n",
       "1727           0   0          0  \n",
       "1728           2   0          0  \n",
       "1729           1   0          3  \n",
       "1730           3   0          3  \n",
       "\n",
       "[1731 rows x 6 columns]"
      ],
      "text/html": [
       "<div>\n",
       "<style scoped>\n",
       "    .dataframe tbody tr th:only-of-type {\n",
       "        vertical-align: middle;\n",
       "    }\n",
       "\n",
       "    .dataframe tbody tr th {\n",
       "        vertical-align: top;\n",
       "    }\n",
       "\n",
       "    .dataframe thead th {\n",
       "        text-align: right;\n",
       "    }\n",
       "</style>\n",
       "<table border=\"1\" class=\"dataframe\">\n",
       "  <thead>\n",
       "    <tr style=\"text-align: right;\">\n",
       "      <th></th>\n",
       "      <th>qid</th>\n",
       "      <th>docid</th>\n",
       "      <th>explanation</th>\n",
       "      <th>prediction</th>\n",
       "      <th>Q0</th>\n",
       "      <th>relevance</th>\n",
       "    </tr>\n",
       "  </thead>\n",
       "  <tbody>\n",
       "    <tr>\n",
       "      <th>0</th>\n",
       "      <td>q26</td>\n",
       "      <td>p1668</td>\n",
       "      <td>Mentions the Caribbean in the context of a bir...</td>\n",
       "      <td>1</td>\n",
       "      <td>0</td>\n",
       "      <td>0</td>\n",
       "    </tr>\n",
       "    <tr>\n",
       "      <th>1</th>\n",
       "      <td>q26</td>\n",
       "      <td>p3564</td>\n",
       "      <td>Provides specific information about the locati...</td>\n",
       "      <td>2</td>\n",
       "      <td>0</td>\n",
       "      <td>0</td>\n",
       "    </tr>\n",
       "    <tr>\n",
       "      <th>2</th>\n",
       "      <td>q26</td>\n",
       "      <td>p148</td>\n",
       "      <td>Appears to be a citation for a research paper</td>\n",
       "      <td>0</td>\n",
       "      <td>0</td>\n",
       "      <td>0</td>\n",
       "    </tr>\n",
       "    <tr>\n",
       "      <th>3</th>\n",
       "      <td>q26</td>\n",
       "      <td>p10159</td>\n",
       "      <td>Mentions the Caribbean coastline in the contex...</td>\n",
       "      <td>1</td>\n",
       "      <td>0</td>\n",
       "      <td>1</td>\n",
       "    </tr>\n",
       "    <tr>\n",
       "      <th>4</th>\n",
       "      <td>q26</td>\n",
       "      <td>p4522</td>\n",
       "      <td>Focused on a specific location and a wildlife ...</td>\n",
       "      <td>1</td>\n",
       "      <td>0</td>\n",
       "      <td>0</td>\n",
       "    </tr>\n",
       "    <tr>\n",
       "      <th>...</th>\n",
       "      <td>...</td>\n",
       "      <td>...</td>\n",
       "      <td>...</td>\n",
       "      <td>...</td>\n",
       "      <td>...</td>\n",
       "      <td>...</td>\n",
       "    </tr>\n",
       "    <tr>\n",
       "      <th>1726</th>\n",
       "      <td>q48</td>\n",
       "      <td>p11513</td>\n",
       "      <td>Directly answers the query with a once-weekly ...</td>\n",
       "      <td>3</td>\n",
       "      <td>0</td>\n",
       "      <td>0</td>\n",
       "    </tr>\n",
       "    <tr>\n",
       "      <th>1727</th>\n",
       "      <td>q48</td>\n",
       "      <td>p9676</td>\n",
       "      <td>Unrelated to the query, discussing general wor...</td>\n",
       "      <td>0</td>\n",
       "      <td>0</td>\n",
       "      <td>0</td>\n",
       "    </tr>\n",
       "    <tr>\n",
       "      <th>1728</th>\n",
       "      <td>q48</td>\n",
       "      <td>p688</td>\n",
       "      <td>Discusses ideal frequency of strength training...</td>\n",
       "      <td>2</td>\n",
       "      <td>0</td>\n",
       "      <td>0</td>\n",
       "    </tr>\n",
       "    <tr>\n",
       "      <th>1729</th>\n",
       "      <td>q48</td>\n",
       "      <td>p8574</td>\n",
       "      <td>Focuses on a specific exercise and its frequency</td>\n",
       "      <td>1</td>\n",
       "      <td>0</td>\n",
       "      <td>3</td>\n",
       "    </tr>\n",
       "    <tr>\n",
       "      <th>1730</th>\n",
       "      <td>q48</td>\n",
       "      <td>p6475</td>\n",
       "      <td>Mentions training once a week as a possible fr...</td>\n",
       "      <td>3</td>\n",
       "      <td>0</td>\n",
       "      <td>3</td>\n",
       "    </tr>\n",
       "  </tbody>\n",
       "</table>\n",
       "<p>1731 rows × 6 columns</p>\n",
       "</div>"
      ]
     },
     "execution_count": 39,
     "metadata": {},
     "output_type": "execute_result"
    }
   ],
   "execution_count": 39
  },
  {
   "metadata": {
    "ExecuteTime": {
     "end_time": "2024-07-01T07:35:45.306050Z",
     "start_time": "2024-07-01T07:35:44.778793Z"
    }
   },
   "cell_type": "code",
   "source": "eval_predictions(mult_llama70, 'LLAMA-70 Multi Passage', true_col='relevance', predicted_col='prediction')",
   "id": "898d88168162da7b",
   "outputs": [
    {
     "name": "stdout",
     "output_type": "stream",
     "text": [
      "              precision    recall  f1-score   support\n",
      "\n",
      "           0       0.84      0.35      0.49       975\n",
      "           1       0.25      0.31      0.28       390\n",
      "           2       0.17      0.53      0.26       188\n",
      "           3       0.37      0.51      0.43       178\n",
      "\n",
      "    accuracy                           0.38      1731\n",
      "   macro avg       0.41      0.42      0.36      1731\n",
      "weighted avg       0.59      0.38      0.41      1731\n",
      "\n",
      "Krippendorff's alpha for LLAMA-70 Multi Passage on the validation set: 0.262\n",
      "Cohen's kappa for LLAMA-70 Multi Passage on the validation set: 0.172\n",
      "Pearson correlation for LLAMA-70 Multi Passage on the validation set: 0.423\n",
      "Kendall's tau for LLAMA-70 Multi Passage on the validation set: 0.359\n",
      "Mean Absolute Error (MAE) for LLAMA-70 Multi Passage on the validation set: 0.907\n"
     ]
    },
    {
     "data": {
      "text/plain": [
       "<Figure size 600x600 with 1 Axes>"
      ],
      "image/png": "[encoded data removed]"
     },
     "metadata": {
      "needs_background": "light"
     },
     "output_type": "display_data"
    }
   ],
   "execution_count": 43
  },
  {
   "metadata": {
    "ExecuteTime": {
     "end_time": "2024-07-01T07:30:15.210344Z",
     "start_time": "2024-07-01T07:30:15.176568Z"
    }
   },
   "cell_type": "code",
   "source": [
    "file_path = 'llm_raw_output/raw_output_rel_p-mult-1_Meta-Llama-3-70B-Instruct_*.tsv'\n",
    "# file_path = 'llm_raw_output/raw_output_rel_p-mult-1-test_Meta-Llama-3-8B-Instruct_*.tsv'\n",
    "# file_path = 'llm_raw_output/raw_output_rel_p-mult-1-test_Meta-Llama-3-70B-Instruct_*.tsv'\n",
    "raw_output_df = pd.concat([pd.read_table(f) for f in glob(file_path)])\n",
    "for x in raw_output_df.iloc[0]:\n",
    "    print(x)"
   ],
   "id": "5ba455be7fe08116",
   "outputs": [
    {
     "name": "stdout",
     "output_type": "stream",
     "text": [
      "q48\n",
      "['p10319', 'p4495', 'p4314']\n",
      "Here is my evaluation:\n",
      "     The order of the passages is: doc-2, doc-1, doc-3.\n",
      "     The reason for this order is that doc-2 directly answers the query, providing evidence that older adults can gain strength by training once per week. Doc-1 is also related to the query, but it doesn't directly answer it, instead comparing the effects of different training frequencies. Doc-3 is less relevant, as it discusses the effectiveness of different training frequencies, but doesn't specifically address the query.\n",
      "\n",
      "     {\"pid\": \"doc-2\", \"explanation\": \"Directly answers the query\", \"relevance\": 3}\n",
      "     {\"pid\": \"doc-1\", \"explanation\": \"Related to the query, but doesn't directly answer it\", \"relevance\": 2}\n",
      "     {\"pid\": \"doc-3\", \"explanation\": \"Less relevant, discusses training frequencies in general\", \"relevance\": 1}\n"
     ]
    }
   ],
   "execution_count": 25
  },
  {
   "metadata": {
    "ExecuteTime": {
     "end_time": "2024-07-01T07:30:16.916738Z",
     "start_time": "2024-07-01T07:30:16.870893Z"
    }
   },
   "cell_type": "code",
   "source": [
    "def rel_parse(label):\n",
    "    common_parse = {'1': 1, '2': 2, '3': 3, '\"2\"': 2, '\"1\"': 1, '\"3\"': 3, '2},': 2, '1},': 1, '3},': 3}\n",
    "    return common_parse.get(label, 0)\n",
    "\n",
    "\n",
    "def drop_duplicates(df):\n",
    "    return df[~df.index.duplicated(keep='first')]\n",
    "\n",
    "\n",
    "_temp_df = raw_output_df['prediction'].str.split('{').str[1:].apply(''.join)\n",
    "_record_d = []\n",
    "failed = []\n",
    "for (qid, docid), text in zip(raw_output_df[['qid', 'docid']].itertuples(index=False), _temp_df):\n",
    "    _records = text.split('\\n')\n",
    "    docid = [i.strip() for i in docid[1:-1].replace(\"'\", \"\").split(',')]\n",
    "    map_docid = {f'doc-{i}': d for i, d in enumerate(docid, 1)}\n",
    "    for _record in _records:\n",
    "        if not _record:\n",
    "            continue\n",
    "        try:\n",
    "            _, pid, explanation, relevance = _record.split(':')\n",
    "            pid = pid.rsplit(',')[0].strip().strip('\\\"')\n",
    "            explanation = explanation.rsplit(',', maxsplit=1)[0].strip().strip('\\\"')\n",
    "            relevance = relevance.strip().strip('}')\n",
    "            _record_d.append(\n",
    "                dict(qid=qid, docid=map_docid.get(pid), explanation=explanation, predicted=rel_parse(relevance)))\n",
    "        except Exception as e:\n",
    "            # print(e)\n",
    "            failed.append(_record)\n",
    "            continue\n",
    "print(f'Failed to parse {len(failed)} records')\n",
    "parsed_df = pd.DataFrame(_record_d).set_index(['qid', 'docid']).sort_index()\n",
    "parsed_df = drop_duplicates(parsed_df)\n",
    "parsed_df"
   ],
   "id": "aa13d80f8de8c327",
   "outputs": [
    {
     "name": "stdout",
     "output_type": "stream",
     "text": [
      "Failed to parse 2 records\n"
     ]
    },
    {
     "data": {
      "text/plain": [
       "                                                  explanation  predicted\n",
       "qid docid                                                               \n",
       "q10 p1                             directly answers the query          3\n",
       "    p10016  Directly mentions low level flying as a tactic...          3\n",
       "    p1005   pilots flying low to demonstrate aircraft's co...          2\n",
       "    p10061                                                             1\n",
       "    p10068  Discusses regulations and investigations relat...          2\n",
       "...                                                       ...        ...\n",
       "q48 p9852                              Unrelated to the query          0\n",
       "    p9880                                                              1\n",
       "    p9950                        Directly addresses the query          3\n",
       "    p999    Discusses workout schedules, but not relevant ...          0\n",
       "    p9998                          Directly answers the query          3\n",
       "\n",
       "[1709 rows x 2 columns]"
      ],
      "text/html": [
       "<div>\n",
       "<style scoped>\n",
       "    .dataframe tbody tr th:only-of-type {\n",
       "        vertical-align: middle;\n",
       "    }\n",
       "\n",
       "    .dataframe tbody tr th {\n",
       "        vertical-align: top;\n",
       "    }\n",
       "\n",
       "    .dataframe thead th {\n",
       "        text-align: right;\n",
       "    }\n",
       "</style>\n",
       "<table border=\"1\" class=\"dataframe\">\n",
       "  <thead>\n",
       "    <tr style=\"text-align: right;\">\n",
       "      <th></th>\n",
       "      <th></th>\n",
       "      <th>explanation</th>\n",
       "      <th>predicted</th>\n",
       "    </tr>\n",
       "    <tr>\n",
       "      <th>qid</th>\n",
       "      <th>docid</th>\n",
       "      <th></th>\n",
       "      <th></th>\n",
       "    </tr>\n",
       "  </thead>\n",
       "  <tbody>\n",
       "    <tr>\n",
       "      <th rowspan=\"5\" valign=\"top\">q10</th>\n",
       "      <th>p1</th>\n",
       "      <td>directly answers the query</td>\n",
       "      <td>3</td>\n",
       "    </tr>\n",
       "    <tr>\n",
       "      <th>p10016</th>\n",
       "      <td>Directly mentions low level flying as a tactic...</td>\n",
       "      <td>3</td>\n",
       "    </tr>\n",
       "    <tr>\n",
       "      <th>p1005</th>\n",
       "      <td>pilots flying low to demonstrate aircraft's co...</td>\n",
       "      <td>2</td>\n",
       "    </tr>\n",
       "    <tr>\n",
       "      <th>p10061</th>\n",
       "      <td></td>\n",
       "      <td>1</td>\n",
       "    </tr>\n",
       "    <tr>\n",
       "      <th>p10068</th>\n",
       "      <td>Discusses regulations and investigations relat...</td>\n",
       "      <td>2</td>\n",
       "    </tr>\n",
       "    <tr>\n",
       "      <th>...</th>\n",
       "      <th>...</th>\n",
       "      <td>...</td>\n",
       "      <td>...</td>\n",
       "    </tr>\n",
       "    <tr>\n",
       "      <th rowspan=\"5\" valign=\"top\">q48</th>\n",
       "      <th>p9852</th>\n",
       "      <td>Unrelated to the query</td>\n",
       "      <td>0</td>\n",
       "    </tr>\n",
       "    <tr>\n",
       "      <th>p9880</th>\n",
       "      <td></td>\n",
       "      <td>1</td>\n",
       "    </tr>\n",
       "    <tr>\n",
       "      <th>p9950</th>\n",
       "      <td>Directly addresses the query</td>\n",
       "      <td>3</td>\n",
       "    </tr>\n",
       "    <tr>\n",
       "      <th>p999</th>\n",
       "      <td>Discusses workout schedules, but not relevant ...</td>\n",
       "      <td>0</td>\n",
       "    </tr>\n",
       "    <tr>\n",
       "      <th>p9998</th>\n",
       "      <td>Directly answers the query</td>\n",
       "      <td>3</td>\n",
       "    </tr>\n",
       "  </tbody>\n",
       "</table>\n",
       "<p>1709 rows × 2 columns</p>\n",
       "</div>"
      ]
     },
     "execution_count": 26,
     "metadata": {},
     "output_type": "execute_result"
    }
   ],
   "execution_count": 26
  },
  {
   "metadata": {
    "ExecuteTime": {
     "end_time": "2024-07-01T07:30:19.768430Z",
     "start_time": "2024-07-01T07:30:19.750679Z"
    }
   },
   "cell_type": "code",
   "source": [
    "# find duplicates\n",
    "_df = val_qrel_df.join(parsed_df, on=['qid', 'docid'], how='left')\n",
    "dups = (_df.index.value_counts() > 1).index[:4]"
   ],
   "id": "820216de41458fe2",
   "outputs": [],
   "execution_count": 27
  },
  {
   "metadata": {
    "ExecuteTime": {
     "end_time": "2024-07-01T07:30:33.391625Z",
     "start_time": "2024-07-01T07:30:33.360737Z"
    }
   },
   "cell_type": "code",
   "source": [
    "parsed_df = val_qrel_df.join(parsed_df, on=['qid', 'docid'], how='left').fillna(0)\n",
    "parsed_df['predicted'] = parsed_df['predicted'].astype(int)\n",
    "parsed_df"
   ],
   "id": "94a6f948a49e91df",
   "outputs": [
    {
     "data": {
      "text/plain": [
       "      qid  Q0   docid  relevance  \\\n",
       "0     q26   0   p1668          0   \n",
       "1     q26   0   p3564          0   \n",
       "2     q26   0    p148          0   \n",
       "3     q26   0  p10159          1   \n",
       "4     q26   0   p4522          0   \n",
       "...   ...  ..     ...        ...   \n",
       "1726  q48   0  p11513          0   \n",
       "1727  q48   0   p9676          0   \n",
       "1728  q48   0    p688          0   \n",
       "1729  q48   0   p8574          3   \n",
       "1730  q48   0   p6475          3   \n",
       "\n",
       "                                            explanation  predicted  \n",
       "0     Mentions the Caribbean in the context of a bir...          1  \n",
       "1     Provides specific information about the locati...          2  \n",
       "2         Appears to be a citation for a research paper          0  \n",
       "3     Mentions the Caribbean coastline in the contex...          1  \n",
       "4     Focused on a specific location and a wildlife ...          1  \n",
       "...                                                 ...        ...  \n",
       "1726  Directly answers the query with a once-weekly ...          3  \n",
       "1727  Unrelated to the query, discussing general wor...          0  \n",
       "1728  Discusses ideal frequency of strength training...          2  \n",
       "1729   Focuses on a specific exercise and its frequency          1  \n",
       "1730  Mentions training once a week as a possible fr...          3  \n",
       "\n",
       "[1731 rows x 6 columns]"
      ],
      "text/html": [
       "<div>\n",
       "<style scoped>\n",
       "    .dataframe tbody tr th:only-of-type {\n",
       "        vertical-align: middle;\n",
       "    }\n",
       "\n",
       "    .dataframe tbody tr th {\n",
       "        vertical-align: top;\n",
       "    }\n",
       "\n",
       "    .dataframe thead th {\n",
       "        text-align: right;\n",
       "    }\n",
       "</style>\n",
       "<table border=\"1\" class=\"dataframe\">\n",
       "  <thead>\n",
       "    <tr style=\"text-align: right;\">\n",
       "      <th></th>\n",
       "      <th>qid</th>\n",
       "      <th>Q0</th>\n",
       "      <th>docid</th>\n",
       "      <th>relevance</th>\n",
       "      <th>explanation</th>\n",
       "      <th>predicted</th>\n",
       "    </tr>\n",
       "  </thead>\n",
       "  <tbody>\n",
       "    <tr>\n",
       "      <th>0</th>\n",
       "      <td>q26</td>\n",
       "      <td>0</td>\n",
       "      <td>p1668</td>\n",
       "      <td>0</td>\n",
       "      <td>Mentions the Caribbean in the context of a bir...</td>\n",
       "      <td>1</td>\n",
       "    </tr>\n",
       "    <tr>\n",
       "      <th>1</th>\n",
       "      <td>q26</td>\n",
       "      <td>0</td>\n",
       "      <td>p3564</td>\n",
       "      <td>0</td>\n",
       "      <td>Provides specific information about the locati...</td>\n",
       "      <td>2</td>\n",
       "    </tr>\n",
       "    <tr>\n",
       "      <th>2</th>\n",
       "      <td>q26</td>\n",
       "      <td>0</td>\n",
       "      <td>p148</td>\n",
       "      <td>0</td>\n",
       "      <td>Appears to be a citation for a research paper</td>\n",
       "      <td>0</td>\n",
       "    </tr>\n",
       "    <tr>\n",
       "      <th>3</th>\n",
       "      <td>q26</td>\n",
       "      <td>0</td>\n",
       "      <td>p10159</td>\n",
       "      <td>1</td>\n",
       "      <td>Mentions the Caribbean coastline in the contex...</td>\n",
       "      <td>1</td>\n",
       "    </tr>\n",
       "    <tr>\n",
       "      <th>4</th>\n",
       "      <td>q26</td>\n",
       "      <td>0</td>\n",
       "      <td>p4522</td>\n",
       "      <td>0</td>\n",
       "      <td>Focused on a specific location and a wildlife ...</td>\n",
       "      <td>1</td>\n",
       "    </tr>\n",
       "    <tr>\n",
       "      <th>...</th>\n",
       "      <td>...</td>\n",
       "      <td>...</td>\n",
       "      <td>...</td>\n",
       "      <td>...</td>\n",
       "      <td>...</td>\n",
       "      <td>...</td>\n",
       "    </tr>\n",
       "    <tr>\n",
       "      <th>1726</th>\n",
       "      <td>q48</td>\n",
       "      <td>0</td>\n",
       "      <td>p11513</td>\n",
       "      <td>0</td>\n",
       "      <td>Directly answers the query with a once-weekly ...</td>\n",
       "      <td>3</td>\n",
       "    </tr>\n",
       "    <tr>\n",
       "      <th>1727</th>\n",
       "      <td>q48</td>\n",
       "      <td>0</td>\n",
       "      <td>p9676</td>\n",
       "      <td>0</td>\n",
       "      <td>Unrelated to the query, discussing general wor...</td>\n",
       "      <td>0</td>\n",
       "    </tr>\n",
       "    <tr>\n",
       "      <th>1728</th>\n",
       "      <td>q48</td>\n",
       "      <td>0</td>\n",
       "      <td>p688</td>\n",
       "      <td>0</td>\n",
       "      <td>Discusses ideal frequency of strength training...</td>\n",
       "      <td>2</td>\n",
       "    </tr>\n",
       "    <tr>\n",
       "      <th>1729</th>\n",
       "      <td>q48</td>\n",
       "      <td>0</td>\n",
       "      <td>p8574</td>\n",
       "      <td>3</td>\n",
       "      <td>Focuses on a specific exercise and its frequency</td>\n",
       "      <td>1</td>\n",
       "    </tr>\n",
       "    <tr>\n",
       "      <th>1730</th>\n",
       "      <td>q48</td>\n",
       "      <td>0</td>\n",
       "      <td>p6475</td>\n",
       "      <td>3</td>\n",
       "      <td>Mentions training once a week as a possible fr...</td>\n",
       "      <td>3</td>\n",
       "    </tr>\n",
       "  </tbody>\n",
       "</table>\n",
       "<p>1731 rows × 6 columns</p>\n",
       "</div>"
      ]
     },
     "execution_count": 28,
     "metadata": {},
     "output_type": "execute_result"
    }
   ],
   "execution_count": 28
  },
  {
   "metadata": {
    "ExecuteTime": {
     "end_time": "2024-07-01T07:33:23.020982Z",
     "start_time": "2024-07-01T07:33:23.009547Z"
    }
   },
   "cell_type": "code",
   "source": "# parsed_df.drop(columns='relevance').rename(columns={'predicted':'prediction'}).to_csv('p-mult-1_Meta-Llama-3-70B-Instruct.tsv', sep='\\t', index=False)",
   "id": "75b85b59310d8b6c",
   "outputs": [],
   "execution_count": 31
  },
  {
   "metadata": {
    "ExecuteTime": {
     "end_time": "2024-07-01T07:09:09.293179Z",
     "start_time": "2024-07-01T07:09:09.282164Z"
    }
   },
   "cell_type": "code",
   "source": [
    "for i in failed[:5]:\n",
    "    print(i)\n",
    "\n",
    "print(_record.split(':'))\n",
    "# list(map(lambda s: s.split(':')[1].strip().strip('\\\"').strip('}'), _record.split(',')))"
   ],
   "id": "11376a4b9c6022f",
   "outputs": [
    {
     "name": "stdout",
     "output_type": "stream",
     "text": [
      "\"doc-1\", \"The passages are not related to the query, they are about different movies.\", \"relevance\": 0}\n",
      "    \"doc-2\", \"The passage is about the movie 'A Wrinkle in Time' and contains information about the movie's cast and crew.\", \"relevance\": 2}\n",
      "    \"doc-3\", \"The passage is about the same movie and provides behind-the-scenes information.\", \"relevance\": 2}\n",
      "\"doc-1\": \"The most relevant passage, as it directly mentions the movie's box office earnings.\", \"relevance\": 3}\n",
      "\"doc-2\": \"The passage provides the exact box office earnings of the movie.\", \"relevance\": 2}\n",
      "['     \"pid\"', ' \"doc-3\", \"explanation\"', ' \"talks about the October 3rd meaning of a person\\'s strengths, not relevant to the query\", \"relevance\"', ' 0}']\n"
     ]
    }
   ],
   "execution_count": 10
  },
  {
   "metadata": {
    "ExecuteTime": {
     "end_time": "2024-07-01T07:09:09.297527Z",
     "start_time": "2024-07-01T07:09:09.295144Z"
    }
   },
   "cell_type": "code",
   "source": "",
   "id": "89de130fd0fa12b2",
   "outputs": [],
   "execution_count": 10
  },
  {
   "metadata": {
    "ExecuteTime": {
     "end_time": "2024-07-01T07:09:09.306326Z",
     "start_time": "2024-07-01T07:09:09.298899Z"
    }
   },
   "cell_type": "code",
   "source": "parsed_df.loc[parsed_df['predicted'] == '']",
   "id": "b3b3b93b6272229a",
   "outputs": [
    {
     "data": {
      "text/plain": [
       "Empty DataFrame\n",
       "Columns: [relevance, explanation, predicted]\n",
       "Index: []"
      ],
      "text/html": [
       "<div>\n",
       "<style scoped>\n",
       "    .dataframe tbody tr th:only-of-type {\n",
       "        vertical-align: middle;\n",
       "    }\n",
       "\n",
       "    .dataframe tbody tr th {\n",
       "        vertical-align: top;\n",
       "    }\n",
       "\n",
       "    .dataframe thead th {\n",
       "        text-align: right;\n",
       "    }\n",
       "</style>\n",
       "<table border=\"1\" class=\"dataframe\">\n",
       "  <thead>\n",
       "    <tr style=\"text-align: right;\">\n",
       "      <th></th>\n",
       "      <th></th>\n",
       "      <th>relevance</th>\n",
       "      <th>explanation</th>\n",
       "      <th>predicted</th>\n",
       "    </tr>\n",
       "    <tr>\n",
       "      <th>qid</th>\n",
       "      <th>docid</th>\n",
       "      <th></th>\n",
       "      <th></th>\n",
       "      <th></th>\n",
       "    </tr>\n",
       "  </thead>\n",
       "  <tbody>\n",
       "  </tbody>\n",
       "</table>\n",
       "</div>"
      ]
     },
     "execution_count": 11,
     "metadata": {},
     "output_type": "execute_result"
    }
   ],
   "execution_count": 11
  },
  {
   "metadata": {
    "ExecuteTime": {
     "end_time": "2024-07-01T07:09:09.976913Z",
     "start_time": "2024-07-01T07:09:09.307657Z"
    }
   },
   "cell_type": "code",
   "source": "eval_predictions(parsed_df, 'llama_test', true_col='relevance', predicted_col='predicted')",
   "id": "c83c34645aea9b9d",
   "outputs": [
    {
     "name": "stdout",
     "output_type": "stream",
     "text": [
      "              precision    recall  f1-score   support\n",
      "\n",
      "           0       0.76      0.47      0.58      2258\n",
      "           1       0.32      0.23      0.27      1274\n",
      "           2       0.17      0.36      0.23       504\n",
      "           3       0.19      0.51      0.28       387\n",
      "\n",
      "    accuracy                           0.39      4423\n",
      "   macro avg       0.36      0.39      0.34      4423\n",
      "weighted avg       0.52      0.39      0.42      4423\n",
      "\n",
      "Krippendorff's alpha for llama_test on the validation set: 0.289\n",
      "Cohen's kappa for llama_test on the validation set: 0.168\n",
      "Pearson correlation for llama_test on the validation set: 0.382\n",
      "Kendall's tau for llama_test on the validation set: 0.344\n",
      "Mean Absolute Error (MAE) for llama_test on the validation set: 0.954\n"
     ]
    },
    {
     "data": {
      "text/plain": [
       "<Figure size 600x600 with 1 Axes>"
      ],
      "image/png": "[encoded data removed]"
     },
     "metadata": {
      "needs_background": "light"
     },
     "output_type": "display_data"
    }
   ],
   "execution_count": 12
  },
  {
   "metadata": {
    "ExecuteTime": {
     "end_time": "2024-07-01T07:09:10.002493Z",
     "start_time": "2024-07-01T07:09:09.979562Z"
    }
   },
   "cell_type": "code",
   "source": [
    "parsed_df = parsed_df.assign(Q0=0)\n",
    "parsed_df.reset_index()[['qid', 'Q0', 'docid', 'predicted']].to_csv('test-qrel-llama8-multi.txt', index=False,\n",
    "                                                                    header=False, sep=' ')"
   ],
   "id": "c8f1ab4c7daec2a2",
   "outputs": [],
   "execution_count": 13
  },
  {
   "metadata": {
    "ExecuteTime": {
     "end_time": "2024-07-01T07:09:10.052952Z",
     "start_time": "2024-07-01T07:09:10.003918Z"
    }
   },
   "cell_type": "code",
   "source": [
    "llama70 = pd.read_table('test-qrel-llama70-multi.txt', header=None, delim_whitespace=True,\n",
    "                        names=['qid', 'Q0', 'docid', 'relevance'])\n",
    "llama8 = pd.read_table('test-qrel-llama8-multi.txt', header=None, delim_whitespace=True,\n",
    "                       names=['qid', 'Q0', 'docid', 'relevance'])\n",
    "gpt4_1 = pd.read_table('test-qrel-1.txt', header=None, delim_whitespace=True, names=['qid', 'Q0', 'docid', 'relevance'])\n",
    "gpt4_2 = pd.read_table('test-qrel-2.txt', header=None, delim_whitespace=True, names=['qid', 'Q0', 'docid', 'relevance'])\n",
    "# fuse the predictions\n",
    "avg_fused = llama70.copy()\n",
    "avg_fused['predicted'] = (\n",
    "        (llama70['relevance'] + llama8['relevance'] + gpt4_1['relevance'] + gpt4_2['relevance']) / 4).round(0).astype(\n",
    "    int)\n",
    "avg_fused.to_csv('test-qrel-avg-fused.txt', index=False, header=False, sep=' ')\n",
    "avg_fused.value_counts('predicted')"
   ],
   "id": "18013b8dd95861a8",
   "outputs": [
    {
     "data": {
      "text/plain": [
       "predicted\n",
       "1    1704\n",
       "2    1364\n",
       "0    1276\n",
       "3      79\n",
       "Name: count, dtype: int64"
      ]
     },
     "execution_count": 14,
     "metadata": {},
     "output_type": "execute_result"
    }
   ],
   "execution_count": 14
  },
  {
   "metadata": {
    "ExecuteTime": {
     "end_time": "2024-07-01T07:09:10.079077Z",
     "start_time": "2024-07-01T07:09:10.055130Z"
    }
   },
   "cell_type": "code",
   "source": [
    "med_fused = llama70.copy()\n",
    "# fuse as the median, within the data\n",
    "_all_scores = pd.concat([llama70['relevance'], llama8['relevance'], gpt4_1['relevance'], gpt4_2['relevance']], axis=1)\n",
    "_all_scores.columns = ['llama70', 'llama8', 'gpt4_1', 'gpt4_2']\n",
    "med_fused['predicted'] = _all_scores.median(axis=1).round(0).astype(int)\n",
    "med_fused.to_csv('test-qrel-med-fused.txt', index=False, header=False, sep=' ')\n",
    "med_fused.value_counts('predicted')"
   ],
   "id": "498c6766e8d18713",
   "outputs": [
    {
     "data": {
      "text/plain": [
       "predicted\n",
       "0    1763\n",
       "2    1389\n",
       "1    1165\n",
       "3     106\n",
       "Name: count, dtype: int64"
      ]
     },
     "execution_count": 15,
     "metadata": {},
     "output_type": "execute_result"
    }
   ],
   "execution_count": 15
  },
  {
   "metadata": {
    "ExecuteTime": {
     "end_time": "2024-07-01T07:09:10.108876Z",
     "start_time": "2024-07-01T07:09:10.080318Z"
    }
   },
   "cell_type": "code",
   "source": [
    "wavg_fused = llama70.copy()\n",
    "wavg_fused['predicted'] = ((0.25 * llama70['relevance'] + 0.15 * llama8['relevance'] + 0.3 * gpt4_1[\n",
    "    'relevance'] + 0.3 * gpt4_2['relevance'])).round(0).astype(int)\n",
    "wavg_fused.to_csv('test-qrel-wavg-fused.txt', index=False, header=False, sep=' ')\n",
    "wavg_fused.value_counts('predicted')"
   ],
   "id": "608d67b24884bece",
   "outputs": [
    {
     "data": {
      "text/plain": [
       "predicted\n",
       "1    2245\n",
       "0    1138\n",
       "2     922\n",
       "3     118\n",
       "Name: count, dtype: int64"
      ]
     },
     "execution_count": 16,
     "metadata": {},
     "output_type": "execute_result"
    }
   ],
   "execution_count": 16
  },
  {
   "metadata": {
    "ExecuteTime": {
     "end_time": "2024-07-01T07:14:07.705969Z",
     "start_time": "2024-07-01T07:14:07.681378Z"
    }
   },
   "cell_type": "code",
   "source": [
    "gpt_avg_fused = llama70.copy()\n",
    "gpt_avg_fused['predicted'] = ((0.5 * gpt4_1['relevance'] + 0.5 * gpt4_2['relevance'])).round(0).astype(int)\n",
    "gpt_avg_fused.to_csv('test-qrel-gpt-avg-fused.txt', index=False, header=False, sep=' ')\n",
    "gpt_avg_fused.value_counts('predicted')"
   ],
   "id": "efe7436f88ab74cf",
   "outputs": [
    {
     "data": {
      "text/plain": [
       "predicted\n",
       "0    2510\n",
       "1     954\n",
       "2     691\n",
       "3     268\n",
       "Name: count, dtype: int64"
      ]
     },
     "execution_count": 17,
     "metadata": {},
     "output_type": "execute_result"
    }
   ],
   "execution_count": 17
  }
 ],
 "metadata": {
  "kernelspec": {
   "display_name": "Python 3",
   "language": "python",
   "name": "python3"
  },
  "language_info": {
   "codemirror_mode": {
    "name": "ipython",
    "version": 2
   },
   "file_extension": ".py",
   "mimetype": "text/x-python",
   "name": "python",
   "nbconvert_exporter": "python",
   "pygments_lexer": "ipython2",
   "version": "2.7.6"
  }
 },
 "nbformat": 4,
 "nbformat_minor": 5
}
