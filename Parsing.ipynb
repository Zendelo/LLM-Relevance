{
 "cells": [
  {
   "cell_type": "code",
   "id": "initial_id",
   "metadata": {
    "collapsed": true,
    "ExecuteTime": {
     "end_time": "2024-07-01T23:45:12.613006Z",
     "start_time": "2024-07-01T23:45:11.017186Z"
    }
   },
   "source": [
    "from glob import glob\n",
    "\n",
    "import krippendorff\n",
    "import numpy as np\n",
    "import pandas as pd\n",
    "from matplotlib import pyplot as plt\n",
    "from scipy.stats import kendalltau\n",
    "from sklearn.metrics import cohen_kappa_score, classification_report, ConfusionMatrixDisplay\n",
    "import farrow_and_ball as fb"
   ],
   "outputs": [],
   "execution_count": 1
  },
  {
   "metadata": {
    "ExecuteTime": {
     "end_time": "2024-07-01T23:45:12.630655Z",
     "start_time": "2024-07-01T23:45:12.614645Z"
    }
   },
   "cell_type": "code",
   "source": [
    "import functools\n",
    "\n",
    "# plt set default parameters\n",
    "plt.rcParams.update(plt.rcParamsDefault)\n",
    "#set plt log level to info\n",
    "plt.set_loglevel('INFO')\n",
    "\n",
    "\n",
    "def plot_confusion_matrix(y_true, y_pred, labels, cmap=None, colorbar=False):\n",
    "    if cmap is None:\n",
    "        cmap = fb.build_colormap(fb.BaseColorPalette.PINKS, continuous=True, reverse=False)\n",
    "    fig, ax = plt.subplots(figsize=(2, 2), dpi=300)\n",
    "    disp = ConfusionMatrixDisplay.from_predictions(y_true, y_pred, labels=labels, cmap=cmap, ax=ax, colorbar=colorbar)\n",
    "    # return partial function to plot confusion matrix\n",
    "    return disp.plot(ax=ax, cmap=cmap, colorbar=colorbar)\n",
    "\n",
    "\n",
    "def judgements_evaluation_report(eval_df, true_col='true', predicted_col='predicted'):\n",
    "    print(classification_report(eval_df[true_col], eval_df[predicted_col], labels=[0, 1, 2, 3]))\n",
    "    _k = krippendorff.alpha(eval_df[[true_col, predicted_col]].T, level_of_measurement='ordinal',\n",
    "                            value_domain=[0, 1, 2, 3])\n",
    "    _kappa = cohen_kappa_score(eval_df[true_col], eval_df[predicted_col])\n",
    "    _pearson = np.corrcoef(eval_df[true_col], eval_df[predicted_col])[0, 1]\n",
    "    _kendall = kendalltau(eval_df[true_col], eval_df[predicted_col]).correlation\n",
    "    _mae = np.abs(eval_df[true_col] - eval_df[predicted_col]).mean()\n",
    "    return _k, _kappa, _pearson, _kendall, _mae\n",
    "\n",
    "\n",
    "def eval_predictions(predictions_df, model_name, true_col='true', predicted_col='predicted', labels=(0, 1, 2, 3)):\n",
    "    _k, _kappa, _pearson, _kendall, _mae = judgements_evaluation_report(predictions_df, true_col=true_col,\n",
    "                                                                        predicted_col=predicted_col)\n",
    "    print(f\"Krippendorff's alpha for {model_name} on the validation set: {_k:.3f}\")\n",
    "    print(f\"Cohen's kappa for {model_name} on the validation set: {_kappa:.3f}\")\n",
    "    print(f\"Pearson correlation for {model_name} on the validation set: {_pearson:.3f}\")\n",
    "    print(f\"Kendall's tau for {model_name} on the validation set: {_kendall:.3f}\")\n",
    "    print(f\"Mean Absolute Error (MAE) for {model_name} on the validation set: {_mae:.3f}\")\n",
    "\n",
    "    plot_confusion_matrix(predictions_df[true_col], predictions_df[predicted_col], labels=labels)\n",
    "    plt.title(model_name, fontsize='small')\n",
    "    plt.savefig(f'plots/{model_name}_cm.pdf', bbox_inches='tight', dpi=300)\n",
    "    plt.show()"
   ],
   "id": "4253271f771a36b0",
   "outputs": [],
   "execution_count": 2
  },
  {
   "metadata": {
    "ExecuteTime": {
     "end_time": "2024-07-01T23:45:12.690338Z",
     "start_time": "2024-07-01T23:45:12.632795Z"
    }
   },
   "cell_type": "code",
   "source": [
    "# load validation df\n",
    "# val_qrel_df = pd.read_table('test-qrel-1.txt', header=None, delim_whitespace=True,\n",
    "#                             names=['qid', 'Q0', 'docid', 'relevance']).drop(columns=['Q0'], errors='ignore').set_index(\n",
    "#     ['qid', 'docid']).sort_index()\n",
    "# val_qrel_df\n",
    "\n",
    "val_qrel_df = pd.read_table('val_set_qrel.tsv', delim_whitespace=True)\n",
    "val_qrel_df"
   ],
   "id": "22d52812c19a5f8",
   "outputs": [
    {
     "data": {
      "text/plain": [
       "      qid  Q0   docid  relevance\n",
       "0     q26   0   p1668          0\n",
       "1     q26   0   p3564          0\n",
       "2     q26   0    p148          0\n",
       "3     q26   0  p10159          1\n",
       "4     q26   0   p4522          0\n",
       "...   ...  ..     ...        ...\n",
       "1726  q48   0  p11513          0\n",
       "1727  q48   0   p9676          0\n",
       "1728  q48   0    p688          0\n",
       "1729  q48   0   p8574          3\n",
       "1730  q48   0   p6475          3\n",
       "\n",
       "[1731 rows x 4 columns]"
      ],
      "text/html": [
       "<div>\n",
       "<style scoped>\n",
       "    .dataframe tbody tr th:only-of-type {\n",
       "        vertical-align: middle;\n",
       "    }\n",
       "\n",
       "    .dataframe tbody tr th {\n",
       "        vertical-align: top;\n",
       "    }\n",
       "\n",
       "    .dataframe thead th {\n",
       "        text-align: right;\n",
       "    }\n",
       "</style>\n",
       "<table border=\"1\" class=\"dataframe\">\n",
       "  <thead>\n",
       "    <tr style=\"text-align: right;\">\n",
       "      <th></th>\n",
       "      <th>qid</th>\n",
       "      <th>Q0</th>\n",
       "      <th>docid</th>\n",
       "      <th>relevance</th>\n",
       "    </tr>\n",
       "  </thead>\n",
       "  <tbody>\n",
       "    <tr>\n",
       "      <th>0</th>\n",
       "      <td>q26</td>\n",
       "      <td>0</td>\n",
       "      <td>p1668</td>\n",
       "      <td>0</td>\n",
       "    </tr>\n",
       "    <tr>\n",
       "      <th>1</th>\n",
       "      <td>q26</td>\n",
       "      <td>0</td>\n",
       "      <td>p3564</td>\n",
       "      <td>0</td>\n",
       "    </tr>\n",
       "    <tr>\n",
       "      <th>2</th>\n",
       "      <td>q26</td>\n",
       "      <td>0</td>\n",
       "      <td>p148</td>\n",
       "      <td>0</td>\n",
       "    </tr>\n",
       "    <tr>\n",
       "      <th>3</th>\n",
       "      <td>q26</td>\n",
       "      <td>0</td>\n",
       "      <td>p10159</td>\n",
       "      <td>1</td>\n",
       "    </tr>\n",
       "    <tr>\n",
       "      <th>4</th>\n",
       "      <td>q26</td>\n",
       "      <td>0</td>\n",
       "      <td>p4522</td>\n",
       "      <td>0</td>\n",
       "    </tr>\n",
       "    <tr>\n",
       "      <th>...</th>\n",
       "      <td>...</td>\n",
       "      <td>...</td>\n",
       "      <td>...</td>\n",
       "      <td>...</td>\n",
       "    </tr>\n",
       "    <tr>\n",
       "      <th>1726</th>\n",
       "      <td>q48</td>\n",
       "      <td>0</td>\n",
       "      <td>p11513</td>\n",
       "      <td>0</td>\n",
       "    </tr>\n",
       "    <tr>\n",
       "      <th>1727</th>\n",
       "      <td>q48</td>\n",
       "      <td>0</td>\n",
       "      <td>p9676</td>\n",
       "      <td>0</td>\n",
       "    </tr>\n",
       "    <tr>\n",
       "      <th>1728</th>\n",
       "      <td>q48</td>\n",
       "      <td>0</td>\n",
       "      <td>p688</td>\n",
       "      <td>0</td>\n",
       "    </tr>\n",
       "    <tr>\n",
       "      <th>1729</th>\n",
       "      <td>q48</td>\n",
       "      <td>0</td>\n",
       "      <td>p8574</td>\n",
       "      <td>3</td>\n",
       "    </tr>\n",
       "    <tr>\n",
       "      <th>1730</th>\n",
       "      <td>q48</td>\n",
       "      <td>0</td>\n",
       "      <td>p6475</td>\n",
       "      <td>3</td>\n",
       "    </tr>\n",
       "  </tbody>\n",
       "</table>\n",
       "<p>1731 rows × 4 columns</p>\n",
       "</div>"
      ]
     },
     "execution_count": 3,
     "metadata": {},
     "output_type": "execute_result"
    }
   ],
   "execution_count": 3
  },
  {
   "metadata": {
    "ExecuteTime": {
     "end_time": "2024-07-01T23:45:12.701751Z",
     "start_time": "2024-07-01T23:45:12.691897Z"
    }
   },
   "cell_type": "code",
   "source": [
    "def read_predictions_df(file_path, val_qrel_df, rsplit=False) -> pd.DataFrame:\n",
    "    raw_output_df = pd.concat([pd.read_table(f) for f in glob(file_path)])\n",
    "    if rsplit:\n",
    "        _temp_df = raw_output_df['prediction'].str.rsplit(',', n=1, expand=True)\n",
    "        raw_output_df = raw_output_df.assign(\n",
    "            predicted=_temp_df[1].str.split(':', n=1, expand=True)[1].str.strip().str.strip(\n",
    "                '\"}').astype(int),\n",
    "            explanation=_temp_df[0].str.split(':', n=1, expand=True)[1].str.strip().str.strip(\n",
    "                '\"}'))\n",
    "    else:\n",
    "        _temp_df = raw_output_df['prediction'].str.split(',', n=1, expand=True)\n",
    "        raw_output_df = raw_output_df.assign(\n",
    "            predicted=_temp_df[0].str.split(':', n=1, expand=True)[1].str.strip().astype(int),\n",
    "            explanation=_temp_df[1].str.split(':', n=1, expand=True)[1].str.strip().str.strip(\n",
    "                '\"}'))\n",
    "    raw_output_df = raw_output_df.join(val_qrel_df.set_index(['qid', 'docid']), on=['qid', 'docid'])\n",
    "    return raw_output_df.drop(columns=['prediction'])"
   ],
   "id": "64d7152634ddfb50",
   "outputs": [],
   "execution_count": 4
  },
  {
   "metadata": {
    "ExecuteTime": {
     "end_time": "2024-07-01T23:45:12.744334Z",
     "start_time": "2024-07-01T23:45:12.705448Z"
    }
   },
   "cell_type": "code",
   "source": [
    "file_path = 'p-mult-1_Meta-Llama-3-70B-Instruct.tsv'\n",
    "mult_llama70 = pd.read_table(file_path).drop(columns='Q0').join(val_qrel_df.set_index(['qid', 'docid']),\n",
    "                                                                on=['qid', 'docid'])\n",
    "mult_llama70"
   ],
   "id": "fc4f509b6b7a7b5b",
   "outputs": [
    {
     "data": {
      "text/plain": [
       "      qid   docid                                        explanation  \\\n",
       "0     q26   p1668  Mentions the Caribbean in the context of a bir...   \n",
       "1     q26   p3564  Provides specific information about the locati...   \n",
       "2     q26    p148      Appears to be a citation for a research paper   \n",
       "3     q26  p10159  Mentions the Caribbean coastline in the contex...   \n",
       "4     q26   p4522  Focused on a specific location and a wildlife ...   \n",
       "...   ...     ...                                                ...   \n",
       "1726  q48  p11513  Directly answers the query with a once-weekly ...   \n",
       "1727  q48   p9676  Unrelated to the query, discussing general wor...   \n",
       "1728  q48    p688  Discusses ideal frequency of strength training...   \n",
       "1729  q48   p8574   Focuses on a specific exercise and its frequency   \n",
       "1730  q48   p6475  Mentions training once a week as a possible fr...   \n",
       "\n",
       "      prediction  Q0  relevance  \n",
       "0              1   0          0  \n",
       "1              2   0          0  \n",
       "2              0   0          0  \n",
       "3              1   0          1  \n",
       "4              1   0          0  \n",
       "...          ...  ..        ...  \n",
       "1726           3   0          0  \n",
       "1727           0   0          0  \n",
       "1728           2   0          0  \n",
       "1729           1   0          3  \n",
       "1730           3   0          3  \n",
       "\n",
       "[1731 rows x 6 columns]"
      ],
      "text/html": [
       "<div>\n",
       "<style scoped>\n",
       "    .dataframe tbody tr th:only-of-type {\n",
       "        vertical-align: middle;\n",
       "    }\n",
       "\n",
       "    .dataframe tbody tr th {\n",
       "        vertical-align: top;\n",
       "    }\n",
       "\n",
       "    .dataframe thead th {\n",
       "        text-align: right;\n",
       "    }\n",
       "</style>\n",
       "<table border=\"1\" class=\"dataframe\">\n",
       "  <thead>\n",
       "    <tr style=\"text-align: right;\">\n",
       "      <th></th>\n",
       "      <th>qid</th>\n",
       "      <th>docid</th>\n",
       "      <th>explanation</th>\n",
       "      <th>prediction</th>\n",
       "      <th>Q0</th>\n",
       "      <th>relevance</th>\n",
       "    </tr>\n",
       "  </thead>\n",
       "  <tbody>\n",
       "    <tr>\n",
       "      <th>0</th>\n",
       "      <td>q26</td>\n",
       "      <td>p1668</td>\n",
       "      <td>Mentions the Caribbean in the context of a bir...</td>\n",
       "      <td>1</td>\n",
       "      <td>0</td>\n",
       "      <td>0</td>\n",
       "    </tr>\n",
       "    <tr>\n",
       "      <th>1</th>\n",
       "      <td>q26</td>\n",
       "      <td>p3564</td>\n",
       "      <td>Provides specific information about the locati...</td>\n",
       "      <td>2</td>\n",
       "      <td>0</td>\n",
       "      <td>0</td>\n",
       "    </tr>\n",
       "    <tr>\n",
       "      <th>2</th>\n",
       "      <td>q26</td>\n",
       "      <td>p148</td>\n",
       "      <td>Appears to be a citation for a research paper</td>\n",
       "      <td>0</td>\n",
       "      <td>0</td>\n",
       "      <td>0</td>\n",
       "    </tr>\n",
       "    <tr>\n",
       "      <th>3</th>\n",
       "      <td>q26</td>\n",
       "      <td>p10159</td>\n",
       "      <td>Mentions the Caribbean coastline in the contex...</td>\n",
       "      <td>1</td>\n",
       "      <td>0</td>\n",
       "      <td>1</td>\n",
       "    </tr>\n",
       "    <tr>\n",
       "      <th>4</th>\n",
       "      <td>q26</td>\n",
       "      <td>p4522</td>\n",
       "      <td>Focused on a specific location and a wildlife ...</td>\n",
       "      <td>1</td>\n",
       "      <td>0</td>\n",
       "      <td>0</td>\n",
       "    </tr>\n",
       "    <tr>\n",
       "      <th>...</th>\n",
       "      <td>...</td>\n",
       "      <td>...</td>\n",
       "      <td>...</td>\n",
       "      <td>...</td>\n",
       "      <td>...</td>\n",
       "      <td>...</td>\n",
       "    </tr>\n",
       "    <tr>\n",
       "      <th>1726</th>\n",
       "      <td>q48</td>\n",
       "      <td>p11513</td>\n",
       "      <td>Directly answers the query with a once-weekly ...</td>\n",
       "      <td>3</td>\n",
       "      <td>0</td>\n",
       "      <td>0</td>\n",
       "    </tr>\n",
       "    <tr>\n",
       "      <th>1727</th>\n",
       "      <td>q48</td>\n",
       "      <td>p9676</td>\n",
       "      <td>Unrelated to the query, discussing general wor...</td>\n",
       "      <td>0</td>\n",
       "      <td>0</td>\n",
       "      <td>0</td>\n",
       "    </tr>\n",
       "    <tr>\n",
       "      <th>1728</th>\n",
       "      <td>q48</td>\n",
       "      <td>p688</td>\n",
       "      <td>Discusses ideal frequency of strength training...</td>\n",
       "      <td>2</td>\n",
       "      <td>0</td>\n",
       "      <td>0</td>\n",
       "    </tr>\n",
       "    <tr>\n",
       "      <th>1729</th>\n",
       "      <td>q48</td>\n",
       "      <td>p8574</td>\n",
       "      <td>Focuses on a specific exercise and its frequency</td>\n",
       "      <td>1</td>\n",
       "      <td>0</td>\n",
       "      <td>3</td>\n",
       "    </tr>\n",
       "    <tr>\n",
       "      <th>1730</th>\n",
       "      <td>q48</td>\n",
       "      <td>p6475</td>\n",
       "      <td>Mentions training once a week as a possible fr...</td>\n",
       "      <td>3</td>\n",
       "      <td>0</td>\n",
       "      <td>3</td>\n",
       "    </tr>\n",
       "  </tbody>\n",
       "</table>\n",
       "<p>1731 rows × 6 columns</p>\n",
       "</div>"
      ]
     },
     "execution_count": 5,
     "metadata": {},
     "output_type": "execute_result"
    }
   ],
   "execution_count": 5
  },
  {
   "metadata": {
    "ExecuteTime": {
     "end_time": "2024-07-01T23:45:13.540495Z",
     "start_time": "2024-07-01T23:45:12.747273Z"
    }
   },
   "cell_type": "code",
   "source": "eval_predictions(mult_llama70, 'LLAMA-70 Multi Passage', true_col='relevance', predicted_col='prediction')",
   "id": "898d88168162da7b",
   "outputs": [
    {
     "name": "stdout",
     "output_type": "stream",
     "text": [
      "              precision    recall  f1-score   support\n",
      "\n",
      "           0       0.84      0.35      0.49       975\n",
      "           1       0.25      0.31      0.28       390\n",
      "           2       0.17      0.53      0.26       188\n",
      "           3       0.37      0.51      0.43       178\n",
      "\n",
      "    accuracy                           0.38      1731\n",
      "   macro avg       0.41      0.42      0.36      1731\n",
      "weighted avg       0.59      0.38      0.41      1731\n",
      "\n",
      "Krippendorff's alpha for LLAMA-70 Multi Passage on the validation set: 0.262\n",
      "Cohen's kappa for LLAMA-70 Multi Passage on the validation set: 0.172\n",
      "Pearson correlation for LLAMA-70 Multi Passage on the validation set: 0.423\n",
      "Kendall's tau for LLAMA-70 Multi Passage on the validation set: 0.359\n",
      "Mean Absolute Error (MAE) for LLAMA-70 Multi Passage on the validation set: 0.907\n"
     ]
    },
    {
     "data": {
      "text/plain": [
       "<Figure size 600x600 with 1 Axes>"
      ],
      "image/png": "[encoded data removed]"
     },
     "metadata": {
      "needs_background": "light"
     },
     "output_type": "display_data"
    }
   ],
   "execution_count": 6
  },
  {
   "metadata": {
    "ExecuteTime": {
     "end_time": "2024-07-01T23:45:13.568286Z",
     "start_time": "2024-07-01T23:45:13.542139Z"
    }
   },
   "cell_type": "code",
   "source": [
    "file_path = 'llm_raw_output/raw_output_rel_p-mult-1_Meta-Llama-3-70B-Instruct_*.tsv'\n",
    "# file_path = 'llm_raw_output/raw_output_rel_p-mult-1-test_Meta-Llama-3-8B-Instruct_*.tsv'\n",
    "# file_path = 'llm_raw_output/raw_output_rel_p-mult-1-test_Meta-Llama-3-70B-Instruct_*.tsv'\n",
    "raw_output_df = pd.concat([pd.read_table(f) for f in glob(file_path)])\n",
    "for x in raw_output_df.iloc[0]:\n",
    "    print(x)"
   ],
   "id": "5ba455be7fe08116",
   "outputs": [
    {
     "name": "stdout",
     "output_type": "stream",
     "text": [
      "q48\n",
      "['p10319', 'p4495', 'p4314']\n",
      "Here is my evaluation:\n",
      "     The order of the passages is: doc-2, doc-1, doc-3.\n",
      "     The reason for this order is that doc-2 directly answers the query, providing evidence that older adults can gain strength by training once per week. Doc-1 is also related to the query, but it doesn't directly answer it, instead comparing the effects of different training frequencies. Doc-3 is less relevant, as it discusses the effectiveness of different training frequencies, but doesn't specifically address the query.\n",
      "\n",
      "     {\"pid\": \"doc-2\", \"explanation\": \"Directly answers the query\", \"relevance\": 3}\n",
      "     {\"pid\": \"doc-1\", \"explanation\": \"Related to the query, but doesn't directly answer it\", \"relevance\": 2}\n",
      "     {\"pid\": \"doc-3\", \"explanation\": \"Less relevant, discusses training frequencies in general\", \"relevance\": 1}\n"
     ]
    }
   ],
   "execution_count": 7
  },
  {
   "metadata": {
    "ExecuteTime": {
     "end_time": "2024-07-01T23:45:13.626342Z",
     "start_time": "2024-07-01T23:45:13.571056Z"
    }
   },
   "cell_type": "code",
   "source": [
    "def rel_parse(label):\n",
    "    common_parse = {'1': 1, '2': 2, '3': 3, '\"2\"': 2, '\"1\"': 1, '\"3\"': 3, '2},': 2, '1},': 1, '3},': 3}\n",
    "    return common_parse.get(label, 0)\n",
    "\n",
    "\n",
    "def drop_duplicates(df):\n",
    "    return df[~df.index.duplicated(keep='first')]\n",
    "\n",
    "\n",
    "_temp_df = raw_output_df['prediction'].str.split('{').str[1:].apply(''.join)\n",
    "_record_d = []\n",
    "failed = []\n",
    "for (qid, docid), text in zip(raw_output_df[['qid', 'docid']].itertuples(index=False), _temp_df):\n",
    "    _records = text.split('\\n')\n",
    "    docid = [i.strip() for i in docid[1:-1].replace(\"'\", \"\").split(',')]\n",
    "    map_docid = {f'doc-{i}': d for i, d in enumerate(docid, 1)}\n",
    "    for _record in _records:\n",
    "        if not _record:\n",
    "            continue\n",
    "        try:\n",
    "            _, pid, explanation, relevance = _record.split(':')\n",
    "            pid = pid.rsplit(',')[0].strip().strip('\\\"')\n",
    "            explanation = explanation.rsplit(',', maxsplit=1)[0].strip().strip('\\\"')\n",
    "            relevance = relevance.strip().strip('}')\n",
    "            _record_d.append(\n",
    "                dict(qid=qid, docid=map_docid.get(pid), explanation=explanation, predicted=rel_parse(relevance)))\n",
    "        except Exception as e:\n",
    "            # print(e)\n",
    "            failed.append(_record)\n",
    "            continue\n",
    "print(f'Failed to parse {len(failed)} records')\n",
    "parsed_df = pd.DataFrame(_record_d).set_index(['qid', 'docid']).sort_index()\n",
    "parsed_df = drop_duplicates(parsed_df)\n",
    "parsed_df"
   ],
   "id": "aa13d80f8de8c327",
   "outputs": [
    {
     "name": "stdout",
     "output_type": "stream",
     "text": [
      "Failed to parse 2 records\n"
     ]
    },
    {
     "data": {
      "text/plain": [
       "                                                  explanation  predicted\n",
       "qid docid                                                               \n",
       "q10 p1                             directly answers the query          3\n",
       "    p10016  Directly mentions low level flying as a tactic...          3\n",
       "    p1005   pilots flying low to demonstrate aircraft's co...          2\n",
       "    p10061                                                             1\n",
       "    p10068  Discusses regulations and investigations relat...          2\n",
       "...                                                       ...        ...\n",
       "q48 p9852                              Unrelated to the query          0\n",
       "    p9880                                                              1\n",
       "    p9950                        Directly addresses the query          3\n",
       "    p999    Discusses workout schedules, but not relevant ...          0\n",
       "    p9998                          Directly answers the query          3\n",
       "\n",
       "[1709 rows x 2 columns]"
      ],
      "text/html": [
       "<div>\n",
       "<style scoped>\n",
       "    .dataframe tbody tr th:only-of-type {\n",
       "        vertical-align: middle;\n",
       "    }\n",
       "\n",
       "    .dataframe tbody tr th {\n",
       "        vertical-align: top;\n",
       "    }\n",
       "\n",
       "    .dataframe thead th {\n",
       "        text-align: right;\n",
       "    }\n",
       "</style>\n",
       "<table border=\"1\" class=\"dataframe\">\n",
       "  <thead>\n",
       "    <tr style=\"text-align: right;\">\n",
       "      <th></th>\n",
       "      <th></th>\n",
       "      <th>explanation</th>\n",
       "      <th>predicted</th>\n",
       "    </tr>\n",
       "    <tr>\n",
       "      <th>qid</th>\n",
       "      <th>docid</th>\n",
       "      <th></th>\n",
       "      <th></th>\n",
       "    </tr>\n",
       "  </thead>\n",
       "  <tbody>\n",
       "    <tr>\n",
       "      <th rowspan=\"5\" valign=\"top\">q10</th>\n",
       "      <th>p1</th>\n",
       "      <td>directly answers the query</td>\n",
       "      <td>3</td>\n",
       "    </tr>\n",
       "    <tr>\n",
       "      <th>p10016</th>\n",
       "      <td>Directly mentions low level flying as a tactic...</td>\n",
       "      <td>3</td>\n",
       "    </tr>\n",
       "    <tr>\n",
       "      <th>p1005</th>\n",
       "      <td>pilots flying low to demonstrate aircraft's co...</td>\n",
       "      <td>2</td>\n",
       "    </tr>\n",
       "    <tr>\n",
       "      <th>p10061</th>\n",
       "      <td></td>\n",
       "      <td>1</td>\n",
       "    </tr>\n",
       "    <tr>\n",
       "      <th>p10068</th>\n",
       "      <td>Discusses regulations and investigations relat...</td>\n",
       "      <td>2</td>\n",
       "    </tr>\n",
       "    <tr>\n",
       "      <th>...</th>\n",
       "      <th>...</th>\n",
       "      <td>...</td>\n",
       "      <td>...</td>\n",
       "    </tr>\n",
       "    <tr>\n",
       "      <th rowspan=\"5\" valign=\"top\">q48</th>\n",
       "      <th>p9852</th>\n",
       "      <td>Unrelated to the query</td>\n",
       "      <td>0</td>\n",
       "    </tr>\n",
       "    <tr>\n",
       "      <th>p9880</th>\n",
       "      <td></td>\n",
       "      <td>1</td>\n",
       "    </tr>\n",
       "    <tr>\n",
       "      <th>p9950</th>\n",
       "      <td>Directly addresses the query</td>\n",
       "      <td>3</td>\n",
       "    </tr>\n",
       "    <tr>\n",
       "      <th>p999</th>\n",
       "      <td>Discusses workout schedules, but not relevant ...</td>\n",
       "      <td>0</td>\n",
       "    </tr>\n",
       "    <tr>\n",
       "      <th>p9998</th>\n",
       "      <td>Directly answers the query</td>\n",
       "      <td>3</td>\n",
       "    </tr>\n",
       "  </tbody>\n",
       "</table>\n",
       "<p>1709 rows × 2 columns</p>\n",
       "</div>"
      ]
     },
     "execution_count": 8,
     "metadata": {},
     "output_type": "execute_result"
    }
   ],
   "execution_count": 8
  },
  {
   "metadata": {
    "ExecuteTime": {
     "end_time": "2024-07-01T23:45:13.639436Z",
     "start_time": "2024-07-01T23:45:13.628275Z"
    }
   },
   "cell_type": "code",
   "source": [
    "# find duplicates\n",
    "_df = val_qrel_df.join(parsed_df, on=['qid', 'docid'], how='left')\n",
    "dups = (_df.index.value_counts() > 1).index[:4]"
   ],
   "id": "820216de41458fe2",
   "outputs": [],
   "execution_count": 9
  },
  {
   "metadata": {
    "ExecuteTime": {
     "end_time": "2024-07-01T23:45:13.664465Z",
     "start_time": "2024-07-01T23:45:13.641689Z"
    }
   },
   "cell_type": "code",
   "source": [
    "parsed_df = val_qrel_df.join(parsed_df, on=['qid', 'docid'], how='left').fillna(0)\n",
    "parsed_df['predicted'] = parsed_df['predicted'].astype(int)\n",
    "parsed_df"
   ],
   "id": "94a6f948a49e91df",
   "outputs": [
    {
     "data": {
      "text/plain": [
       "      qid  Q0   docid  relevance  \\\n",
       "0     q26   0   p1668          0   \n",
       "1     q26   0   p3564          0   \n",
       "2     q26   0    p148          0   \n",
       "3     q26   0  p10159          1   \n",
       "4     q26   0   p4522          0   \n",
       "...   ...  ..     ...        ...   \n",
       "1726  q48   0  p11513          0   \n",
       "1727  q48   0   p9676          0   \n",
       "1728  q48   0    p688          0   \n",
       "1729  q48   0   p8574          3   \n",
       "1730  q48   0   p6475          3   \n",
       "\n",
       "                                            explanation  predicted  \n",
       "0     Mentions the Caribbean in the context of a bir...          1  \n",
       "1     Provides specific information about the locati...          2  \n",
       "2         Appears to be a citation for a research paper          0  \n",
       "3     Mentions the Caribbean coastline in the contex...          1  \n",
       "4     Focused on a specific location and a wildlife ...          1  \n",
       "...                                                 ...        ...  \n",
       "1726  Directly answers the query with a once-weekly ...          3  \n",
       "1727  Unrelated to the query, discussing general wor...          0  \n",
       "1728  Discusses ideal frequency of strength training...          2  \n",
       "1729   Focuses on a specific exercise and its frequency          1  \n",
       "1730  Mentions training once a week as a possible fr...          3  \n",
       "\n",
       "[1731 rows x 6 columns]"
      ],
      "text/html": [
       "<div>\n",
       "<style scoped>\n",
       "    .dataframe tbody tr th:only-of-type {\n",
       "        vertical-align: middle;\n",
       "    }\n",
       "\n",
       "    .dataframe tbody tr th {\n",
       "        vertical-align: top;\n",
       "    }\n",
       "\n",
       "    .dataframe thead th {\n",
       "        text-align: right;\n",
       "    }\n",
       "</style>\n",
       "<table border=\"1\" class=\"dataframe\">\n",
       "  <thead>\n",
       "    <tr style=\"text-align: right;\">\n",
       "      <th></th>\n",
       "      <th>qid</th>\n",
       "      <th>Q0</th>\n",
       "      <th>docid</th>\n",
       "      <th>relevance</th>\n",
       "      <th>explanation</th>\n",
       "      <th>predicted</th>\n",
       "    </tr>\n",
       "  </thead>\n",
       "  <tbody>\n",
       "    <tr>\n",
       "      <th>0</th>\n",
       "      <td>q26</td>\n",
       "      <td>0</td>\n",
       "      <td>p1668</td>\n",
       "      <td>0</td>\n",
       "      <td>Mentions the Caribbean in the context of a bir...</td>\n",
       "      <td>1</td>\n",
       "    </tr>\n",
       "    <tr>\n",
       "      <th>1</th>\n",
       "      <td>q26</td>\n",
       "      <td>0</td>\n",
       "      <td>p3564</td>\n",
       "      <td>0</td>\n",
       "      <td>Provides specific information about the locati...</td>\n",
       "      <td>2</td>\n",
       "    </tr>\n",
       "    <tr>\n",
       "      <th>2</th>\n",
       "      <td>q26</td>\n",
       "      <td>0</td>\n",
       "      <td>p148</td>\n",
       "      <td>0</td>\n",
       "      <td>Appears to be a citation for a research paper</td>\n",
       "      <td>0</td>\n",
       "    </tr>\n",
       "    <tr>\n",
       "      <th>3</th>\n",
       "      <td>q26</td>\n",
       "      <td>0</td>\n",
       "      <td>p10159</td>\n",
       "      <td>1</td>\n",
       "      <td>Mentions the Caribbean coastline in the contex...</td>\n",
       "      <td>1</td>\n",
       "    </tr>\n",
       "    <tr>\n",
       "      <th>4</th>\n",
       "      <td>q26</td>\n",
       "      <td>0</td>\n",
       "      <td>p4522</td>\n",
       "      <td>0</td>\n",
       "      <td>Focused on a specific location and a wildlife ...</td>\n",
       "      <td>1</td>\n",
       "    </tr>\n",
       "    <tr>\n",
       "      <th>...</th>\n",
       "      <td>...</td>\n",
       "      <td>...</td>\n",
       "      <td>...</td>\n",
       "      <td>...</td>\n",
       "      <td>...</td>\n",
       "      <td>...</td>\n",
       "    </tr>\n",
       "    <tr>\n",
       "      <th>1726</th>\n",
       "      <td>q48</td>\n",
       "      <td>0</td>\n",
       "      <td>p11513</td>\n",
       "      <td>0</td>\n",
       "      <td>Directly answers the query with a once-weekly ...</td>\n",
       "      <td>3</td>\n",
       "    </tr>\n",
       "    <tr>\n",
       "      <th>1727</th>\n",
       "      <td>q48</td>\n",
       "      <td>0</td>\n",
       "      <td>p9676</td>\n",
       "      <td>0</td>\n",
       "      <td>Unrelated to the query, discussing general wor...</td>\n",
       "      <td>0</td>\n",
       "    </tr>\n",
       "    <tr>\n",
       "      <th>1728</th>\n",
       "      <td>q48</td>\n",
       "      <td>0</td>\n",
       "      <td>p688</td>\n",
       "      <td>0</td>\n",
       "      <td>Discusses ideal frequency of strength training...</td>\n",
       "      <td>2</td>\n",
       "    </tr>\n",
       "    <tr>\n",
       "      <th>1729</th>\n",
       "      <td>q48</td>\n",
       "      <td>0</td>\n",
       "      <td>p8574</td>\n",
       "      <td>3</td>\n",
       "      <td>Focuses on a specific exercise and its frequency</td>\n",
       "      <td>1</td>\n",
       "    </tr>\n",
       "    <tr>\n",
       "      <th>1730</th>\n",
       "      <td>q48</td>\n",
       "      <td>0</td>\n",
       "      <td>p6475</td>\n",
       "      <td>3</td>\n",
       "      <td>Mentions training once a week as a possible fr...</td>\n",
       "      <td>3</td>\n",
       "    </tr>\n",
       "  </tbody>\n",
       "</table>\n",
       "<p>1731 rows × 6 columns</p>\n",
       "</div>"
      ]
     },
     "execution_count": 10,
     "metadata": {},
     "output_type": "execute_result"
    }
   ],
   "execution_count": 10
  },
  {
   "metadata": {
    "ExecuteTime": {
     "end_time": "2024-07-01T23:45:13.668997Z",
     "start_time": "2024-07-01T23:45:13.666023Z"
    }
   },
   "cell_type": "code",
   "source": "# parsed_df.drop(columns='relevance').rename(columns={'predicted':'prediction'}).to_csv('p-mult-1_Meta-Llama-3-70B-Instruct.tsv', sep='\\t', index=False)",
   "id": "75b85b59310d8b6c",
   "outputs": [],
   "execution_count": 11
  },
  {
   "metadata": {
    "ExecuteTime": {
     "end_time": "2024-07-01T23:45:13.680626Z",
     "start_time": "2024-07-01T23:45:13.670668Z"
    }
   },
   "cell_type": "code",
   "source": [
    "for i in failed[:5]:\n",
    "    print(i)\n",
    "\n",
    "print(_record.split(':'))\n",
    "# list(map(lambda s: s.split(':')[1].strip().strip('\\\"').strip('}'), _record.split(',')))"
   ],
   "id": "11376a4b9c6022f",
   "outputs": [
    {
     "name": "stdout",
     "output_type": "stream",
     "text": [
      "     \"pid\": \"doc-3\", \"explanation\": \"List of colleges and universities in the US\", \"re\n",
      "Explanation: I arranged the passages in order of relevance to the query. Doc-1 is the most relevant as it directly answers the query by explaining the factors that affect the selection of track spikes for junior and senior athletes. Doc-2 is also relevant as it provides an example of how track spikes are designed differently for specific events, which is related to the query. Doc-3 is irrelevant as it does not provide any information.\n",
      "['     \"pid\"', ' \"doc-3\", \"explanation\"', ' \"Mentions training once a week as a possible frequency\", \"relevance\"', ' 3}']\n"
     ]
    }
   ],
   "execution_count": 12
  },
  {
   "metadata": {
    "ExecuteTime": {
     "end_time": "2024-07-01T23:45:13.685437Z",
     "start_time": "2024-07-01T23:45:13.682161Z"
    }
   },
   "cell_type": "code",
   "source": "",
   "id": "89de130fd0fa12b2",
   "outputs": [],
   "execution_count": 12
  },
  {
   "metadata": {
    "ExecuteTime": {
     "end_time": "2024-07-01T23:45:13.696846Z",
     "start_time": "2024-07-01T23:45:13.689476Z"
    }
   },
   "cell_type": "code",
   "source": "parsed_df.loc[parsed_df['predicted'] == '']",
   "id": "b3b3b93b6272229a",
   "outputs": [
    {
     "data": {
      "text/plain": [
       "Empty DataFrame\n",
       "Columns: [qid, Q0, docid, relevance, explanation, predicted]\n",
       "Index: []"
      ],
      "text/html": [
       "<div>\n",
       "<style scoped>\n",
       "    .dataframe tbody tr th:only-of-type {\n",
       "        vertical-align: middle;\n",
       "    }\n",
       "\n",
       "    .dataframe tbody tr th {\n",
       "        vertical-align: top;\n",
       "    }\n",
       "\n",
       "    .dataframe thead th {\n",
       "        text-align: right;\n",
       "    }\n",
       "</style>\n",
       "<table border=\"1\" class=\"dataframe\">\n",
       "  <thead>\n",
       "    <tr style=\"text-align: right;\">\n",
       "      <th></th>\n",
       "      <th>qid</th>\n",
       "      <th>Q0</th>\n",
       "      <th>docid</th>\n",
       "      <th>relevance</th>\n",
       "      <th>explanation</th>\n",
       "      <th>predicted</th>\n",
       "    </tr>\n",
       "  </thead>\n",
       "  <tbody>\n",
       "  </tbody>\n",
       "</table>\n",
       "</div>"
      ]
     },
     "execution_count": 13,
     "metadata": {},
     "output_type": "execute_result"
    }
   ],
   "execution_count": 13
  },
  {
   "metadata": {
    "ExecuteTime": {
     "end_time": "2024-07-01T23:45:14.381892Z",
     "start_time": "2024-07-01T23:45:13.698644Z"
    }
   },
   "cell_type": "code",
   "source": "eval_predictions(parsed_df, 'llama_test', true_col='relevance', predicted_col='predicted')",
   "id": "c83c34645aea9b9d",
   "outputs": [
    {
     "name": "stdout",
     "output_type": "stream",
     "text": [
      "              precision    recall  f1-score   support\n",
      "\n",
      "           0       0.84      0.35      0.49       975\n",
      "           1       0.25      0.31      0.28       390\n",
      "           2       0.17      0.53      0.26       188\n",
      "           3       0.37      0.51      0.43       178\n",
      "\n",
      "    accuracy                           0.38      1731\n",
      "   macro avg       0.41      0.42      0.36      1731\n",
      "weighted avg       0.59      0.38      0.41      1731\n",
      "\n",
      "Krippendorff's alpha for llama_test on the validation set: 0.262\n",
      "Cohen's kappa for llama_test on the validation set: 0.172\n",
      "Pearson correlation for llama_test on the validation set: 0.423\n",
      "Kendall's tau for llama_test on the validation set: 0.359\n",
      "Mean Absolute Error (MAE) for llama_test on the validation set: 0.907\n"
     ]
    },
    {
     "data": {
      "text/plain": [
       "<Figure size 600x600 with 1 Axes>"
      ],
      "image/png": "[encoded data removed]"
     },
     "metadata": {
      "needs_background": "light"
     },
     "output_type": "display_data"
    }
   ],
   "execution_count": 14
  },
  {
   "metadata": {
    "ExecuteTime": {
     "end_time": "2024-07-01T23:45:14.396917Z",
     "start_time": "2024-07-01T23:45:14.383369Z"
    }
   },
   "cell_type": "code",
   "source": [
    "parsed_df = parsed_df.assign(Q0=0)\n",
    "parsed_df.reset_index()[['qid', 'Q0', 'docid', 'predicted']].to_csv('test-qrel-llama8-multi.txt', index=False,\n",
    "                                                                    header=False, sep=' ')"
   ],
   "id": "c8f1ab4c7daec2a2",
   "outputs": [],
   "execution_count": 15
  },
  {
   "metadata": {
    "ExecuteTime": {
     "end_time": "2024-07-01T23:45:17.127089Z",
     "start_time": "2024-07-01T23:45:14.398763Z"
    }
   },
   "cell_type": "code",
   "source": [
    "llama70 = pd.read_table('test-qrel-llama70-multi.txt', header=None, delim_whitespace=True,\n",
    "                        names=['qid', 'Q0', 'docid', 'relevance'])\n",
    "llama8 = pd.read_table('test-qrel-llama8-multi.txt', header=None, delim_whitespace=True,\n",
    "                       names=['qid', 'Q0', 'docid', 'relevance'])\n",
    "gpt4_1 = pd.read_table('test-qrel-1.txt', header=None, delim_whitespace=True, names=['qid', 'Q0', 'docid', 'relevance'])\n",
    "gpt4_2 = pd.read_table('test-qrel-2.txt', header=None, delim_whitespace=True, names=['qid', 'Q0', 'docid', 'relevance'])\n",
    "# fuse the predictions\n",
    "avg_fused = llama70.copy()\n",
    "avg_fused['predicted'] = (\n",
    "        (llama70['relevance'] + llama8['relevance'] + gpt4_1['relevance'] + gpt4_2['relevance']) / 4).round(0).astype(\n",
    "    int)\n",
    "avg_fused.to_csv('test-qrel-avg-fused.txt', index=False, header=False, sep=' ')\n",
    "avg_fused.value_counts('predicted')"
   ],
   "id": "18013b8dd95861a8",
   "outputs": [
    {
     "ename": "IntCastingNaNError",
     "evalue": "Cannot convert non-finite values (NA or inf) to integer",
     "output_type": "error",
     "traceback": [
      "\u001B[0;31m---------------------------------------------------------------------------\u001B[0m",
      "\u001B[0;31mIntCastingNaNError\u001B[0m                        Traceback (most recent call last)",
      "Input \u001B[0;32mIn [16]\u001B[0m, in \u001B[0;36m<cell line: 10>\u001B[0;34m()\u001B[0m\n\u001B[1;32m      7\u001B[0m \u001B[38;5;66;03m# fuse the predictions\u001B[39;00m\n\u001B[1;32m      8\u001B[0m avg_fused \u001B[38;5;241m=\u001B[39m llama70\u001B[38;5;241m.\u001B[39mcopy()\n\u001B[0;32m----> 9\u001B[0m avg_fused[\u001B[38;5;124m'\u001B[39m\u001B[38;5;124mpredicted\u001B[39m\u001B[38;5;124m'\u001B[39m] \u001B[38;5;241m=\u001B[39m \u001B[43m(\u001B[49m\n\u001B[1;32m     10\u001B[0m \u001B[43m        \u001B[49m\u001B[43m(\u001B[49m\u001B[43mllama70\u001B[49m\u001B[43m[\u001B[49m\u001B[38;5;124;43m'\u001B[39;49m\u001B[38;5;124;43mrelevance\u001B[39;49m\u001B[38;5;124;43m'\u001B[39;49m\u001B[43m]\u001B[49m\u001B[43m \u001B[49m\u001B[38;5;241;43m+\u001B[39;49m\u001B[43m \u001B[49m\u001B[43mllama8\u001B[49m\u001B[43m[\u001B[49m\u001B[38;5;124;43m'\u001B[39;49m\u001B[38;5;124;43mrelevance\u001B[39;49m\u001B[38;5;124;43m'\u001B[39;49m\u001B[43m]\u001B[49m\u001B[43m \u001B[49m\u001B[38;5;241;43m+\u001B[39;49m\u001B[43m \u001B[49m\u001B[43mgpt4_1\u001B[49m\u001B[43m[\u001B[49m\u001B[38;5;124;43m'\u001B[39;49m\u001B[38;5;124;43mrelevance\u001B[39;49m\u001B[38;5;124;43m'\u001B[39;49m\u001B[43m]\u001B[49m\u001B[43m \u001B[49m\u001B[38;5;241;43m+\u001B[39;49m\u001B[43m \u001B[49m\u001B[43mgpt4_2\u001B[49m\u001B[43m[\u001B[49m\u001B[38;5;124;43m'\u001B[39;49m\u001B[38;5;124;43mrelevance\u001B[39;49m\u001B[38;5;124;43m'\u001B[39;49m\u001B[43m]\u001B[49m\u001B[43m)\u001B[49m\u001B[43m \u001B[49m\u001B[38;5;241;43m/\u001B[39;49m\u001B[43m \u001B[49m\u001B[38;5;241;43m4\u001B[39;49m\u001B[43m)\u001B[49m\u001B[38;5;241;43m.\u001B[39;49m\u001B[43mround\u001B[49m\u001B[43m(\u001B[49m\u001B[38;5;241;43m0\u001B[39;49m\u001B[43m)\u001B[49m\u001B[38;5;241;43m.\u001B[39;49m\u001B[43mastype\u001B[49m\u001B[43m(\u001B[49m\n\u001B[1;32m     11\u001B[0m \u001B[43m    \u001B[49m\u001B[38;5;28;43mint\u001B[39;49m\u001B[43m)\u001B[49m\n\u001B[1;32m     12\u001B[0m avg_fused\u001B[38;5;241m.\u001B[39mto_csv(\u001B[38;5;124m'\u001B[39m\u001B[38;5;124mtest-qrel-avg-fused.txt\u001B[39m\u001B[38;5;124m'\u001B[39m, index\u001B[38;5;241m=\u001B[39m\u001B[38;5;28;01mFalse\u001B[39;00m, header\u001B[38;5;241m=\u001B[39m\u001B[38;5;28;01mFalse\u001B[39;00m, sep\u001B[38;5;241m=\u001B[39m\u001B[38;5;124m'\u001B[39m\u001B[38;5;124m \u001B[39m\u001B[38;5;124m'\u001B[39m)\n\u001B[1;32m     13\u001B[0m avg_fused\u001B[38;5;241m.\u001B[39mvalue_counts(\u001B[38;5;124m'\u001B[39m\u001B[38;5;124mpredicted\u001B[39m\u001B[38;5;124m'\u001B[39m)\n",
      "File \u001B[0;32m~/miniconda3/envs/pds/lib/python3.8/site-packages/pandas/core/generic.py:6324\u001B[0m, in \u001B[0;36mNDFrame.astype\u001B[0;34m(self, dtype, copy, errors)\u001B[0m\n\u001B[1;32m   6317\u001B[0m     results \u001B[38;5;241m=\u001B[39m [\n\u001B[1;32m   6318\u001B[0m         \u001B[38;5;28mself\u001B[39m\u001B[38;5;241m.\u001B[39miloc[:, i]\u001B[38;5;241m.\u001B[39mastype(dtype, copy\u001B[38;5;241m=\u001B[39mcopy)\n\u001B[1;32m   6319\u001B[0m         \u001B[38;5;28;01mfor\u001B[39;00m i \u001B[38;5;129;01min\u001B[39;00m \u001B[38;5;28mrange\u001B[39m(\u001B[38;5;28mlen\u001B[39m(\u001B[38;5;28mself\u001B[39m\u001B[38;5;241m.\u001B[39mcolumns))\n\u001B[1;32m   6320\u001B[0m     ]\n\u001B[1;32m   6322\u001B[0m \u001B[38;5;28;01melse\u001B[39;00m:\n\u001B[1;32m   6323\u001B[0m     \u001B[38;5;66;03m# else, only a single dtype is given\u001B[39;00m\n\u001B[0;32m-> 6324\u001B[0m     new_data \u001B[38;5;241m=\u001B[39m \u001B[38;5;28;43mself\u001B[39;49m\u001B[38;5;241;43m.\u001B[39;49m\u001B[43m_mgr\u001B[49m\u001B[38;5;241;43m.\u001B[39;49m\u001B[43mastype\u001B[49m\u001B[43m(\u001B[49m\u001B[43mdtype\u001B[49m\u001B[38;5;241;43m=\u001B[39;49m\u001B[43mdtype\u001B[49m\u001B[43m,\u001B[49m\u001B[43m \u001B[49m\u001B[43mcopy\u001B[49m\u001B[38;5;241;43m=\u001B[39;49m\u001B[43mcopy\u001B[49m\u001B[43m,\u001B[49m\u001B[43m \u001B[49m\u001B[43merrors\u001B[49m\u001B[38;5;241;43m=\u001B[39;49m\u001B[43merrors\u001B[49m\u001B[43m)\u001B[49m\n\u001B[1;32m   6325\u001B[0m     \u001B[38;5;28;01mreturn\u001B[39;00m \u001B[38;5;28mself\u001B[39m\u001B[38;5;241m.\u001B[39m_constructor(new_data)\u001B[38;5;241m.\u001B[39m__finalize__(\u001B[38;5;28mself\u001B[39m, method\u001B[38;5;241m=\u001B[39m\u001B[38;5;124m\"\u001B[39m\u001B[38;5;124mastype\u001B[39m\u001B[38;5;124m\"\u001B[39m)\n\u001B[1;32m   6327\u001B[0m \u001B[38;5;66;03m# GH 33113: handle empty frame or series\u001B[39;00m\n",
      "File \u001B[0;32m~/miniconda3/envs/pds/lib/python3.8/site-packages/pandas/core/internals/managers.py:451\u001B[0m, in \u001B[0;36mBaseBlockManager.astype\u001B[0;34m(self, dtype, copy, errors)\u001B[0m\n\u001B[1;32m    448\u001B[0m \u001B[38;5;28;01melif\u001B[39;00m using_copy_on_write():\n\u001B[1;32m    449\u001B[0m     copy \u001B[38;5;241m=\u001B[39m \u001B[38;5;28;01mFalse\u001B[39;00m\n\u001B[0;32m--> 451\u001B[0m \u001B[38;5;28;01mreturn\u001B[39;00m \u001B[38;5;28;43mself\u001B[39;49m\u001B[38;5;241;43m.\u001B[39;49m\u001B[43mapply\u001B[49m\u001B[43m(\u001B[49m\n\u001B[1;32m    452\u001B[0m \u001B[43m    \u001B[49m\u001B[38;5;124;43m\"\u001B[39;49m\u001B[38;5;124;43mastype\u001B[39;49m\u001B[38;5;124;43m\"\u001B[39;49m\u001B[43m,\u001B[49m\n\u001B[1;32m    453\u001B[0m \u001B[43m    \u001B[49m\u001B[43mdtype\u001B[49m\u001B[38;5;241;43m=\u001B[39;49m\u001B[43mdtype\u001B[49m\u001B[43m,\u001B[49m\n\u001B[1;32m    454\u001B[0m \u001B[43m    \u001B[49m\u001B[43mcopy\u001B[49m\u001B[38;5;241;43m=\u001B[39;49m\u001B[43mcopy\u001B[49m\u001B[43m,\u001B[49m\n\u001B[1;32m    455\u001B[0m \u001B[43m    \u001B[49m\u001B[43merrors\u001B[49m\u001B[38;5;241;43m=\u001B[39;49m\u001B[43merrors\u001B[49m\u001B[43m,\u001B[49m\n\u001B[1;32m    456\u001B[0m \u001B[43m    \u001B[49m\u001B[43musing_cow\u001B[49m\u001B[38;5;241;43m=\u001B[39;49m\u001B[43musing_copy_on_write\u001B[49m\u001B[43m(\u001B[49m\u001B[43m)\u001B[49m\u001B[43m,\u001B[49m\n\u001B[1;32m    457\u001B[0m \u001B[43m\u001B[49m\u001B[43m)\u001B[49m\n",
      "File \u001B[0;32m~/miniconda3/envs/pds/lib/python3.8/site-packages/pandas/core/internals/managers.py:352\u001B[0m, in \u001B[0;36mBaseBlockManager.apply\u001B[0;34m(self, f, align_keys, **kwargs)\u001B[0m\n\u001B[1;32m    350\u001B[0m         applied \u001B[38;5;241m=\u001B[39m b\u001B[38;5;241m.\u001B[39mapply(f, \u001B[38;5;241m*\u001B[39m\u001B[38;5;241m*\u001B[39mkwargs)\n\u001B[1;32m    351\u001B[0m     \u001B[38;5;28;01melse\u001B[39;00m:\n\u001B[0;32m--> 352\u001B[0m         applied \u001B[38;5;241m=\u001B[39m \u001B[38;5;28;43mgetattr\u001B[39;49m\u001B[43m(\u001B[49m\u001B[43mb\u001B[49m\u001B[43m,\u001B[49m\u001B[43m \u001B[49m\u001B[43mf\u001B[49m\u001B[43m)\u001B[49m\u001B[43m(\u001B[49m\u001B[38;5;241;43m*\u001B[39;49m\u001B[38;5;241;43m*\u001B[39;49m\u001B[43mkwargs\u001B[49m\u001B[43m)\u001B[49m\n\u001B[1;32m    353\u001B[0m     result_blocks \u001B[38;5;241m=\u001B[39m extend_blocks(applied, result_blocks)\n\u001B[1;32m    355\u001B[0m out \u001B[38;5;241m=\u001B[39m \u001B[38;5;28mtype\u001B[39m(\u001B[38;5;28mself\u001B[39m)\u001B[38;5;241m.\u001B[39mfrom_blocks(result_blocks, \u001B[38;5;28mself\u001B[39m\u001B[38;5;241m.\u001B[39maxes)\n",
      "File \u001B[0;32m~/miniconda3/envs/pds/lib/python3.8/site-packages/pandas/core/internals/blocks.py:511\u001B[0m, in \u001B[0;36mBlock.astype\u001B[0;34m(self, dtype, copy, errors, using_cow)\u001B[0m\n\u001B[1;32m    491\u001B[0m \u001B[38;5;124;03m\"\"\"\u001B[39;00m\n\u001B[1;32m    492\u001B[0m \u001B[38;5;124;03mCoerce to the new dtype.\u001B[39;00m\n\u001B[1;32m    493\u001B[0m \n\u001B[0;32m   (...)\u001B[0m\n\u001B[1;32m    507\u001B[0m \u001B[38;5;124;03mBlock\u001B[39;00m\n\u001B[1;32m    508\u001B[0m \u001B[38;5;124;03m\"\"\"\u001B[39;00m\n\u001B[1;32m    509\u001B[0m values \u001B[38;5;241m=\u001B[39m \u001B[38;5;28mself\u001B[39m\u001B[38;5;241m.\u001B[39mvalues\n\u001B[0;32m--> 511\u001B[0m new_values \u001B[38;5;241m=\u001B[39m \u001B[43mastype_array_safe\u001B[49m\u001B[43m(\u001B[49m\u001B[43mvalues\u001B[49m\u001B[43m,\u001B[49m\u001B[43m \u001B[49m\u001B[43mdtype\u001B[49m\u001B[43m,\u001B[49m\u001B[43m \u001B[49m\u001B[43mcopy\u001B[49m\u001B[38;5;241;43m=\u001B[39;49m\u001B[43mcopy\u001B[49m\u001B[43m,\u001B[49m\u001B[43m \u001B[49m\u001B[43merrors\u001B[49m\u001B[38;5;241;43m=\u001B[39;49m\u001B[43merrors\u001B[49m\u001B[43m)\u001B[49m\n\u001B[1;32m    513\u001B[0m new_values \u001B[38;5;241m=\u001B[39m maybe_coerce_values(new_values)\n\u001B[1;32m    515\u001B[0m refs \u001B[38;5;241m=\u001B[39m \u001B[38;5;28;01mNone\u001B[39;00m\n",
      "File \u001B[0;32m~/miniconda3/envs/pds/lib/python3.8/site-packages/pandas/core/dtypes/astype.py:242\u001B[0m, in \u001B[0;36mastype_array_safe\u001B[0;34m(values, dtype, copy, errors)\u001B[0m\n\u001B[1;32m    239\u001B[0m     dtype \u001B[38;5;241m=\u001B[39m dtype\u001B[38;5;241m.\u001B[39mnumpy_dtype\n\u001B[1;32m    241\u001B[0m \u001B[38;5;28;01mtry\u001B[39;00m:\n\u001B[0;32m--> 242\u001B[0m     new_values \u001B[38;5;241m=\u001B[39m \u001B[43mastype_array\u001B[49m\u001B[43m(\u001B[49m\u001B[43mvalues\u001B[49m\u001B[43m,\u001B[49m\u001B[43m \u001B[49m\u001B[43mdtype\u001B[49m\u001B[43m,\u001B[49m\u001B[43m \u001B[49m\u001B[43mcopy\u001B[49m\u001B[38;5;241;43m=\u001B[39;49m\u001B[43mcopy\u001B[49m\u001B[43m)\u001B[49m\n\u001B[1;32m    243\u001B[0m \u001B[38;5;28;01mexcept\u001B[39;00m (\u001B[38;5;167;01mValueError\u001B[39;00m, \u001B[38;5;167;01mTypeError\u001B[39;00m):\n\u001B[1;32m    244\u001B[0m     \u001B[38;5;66;03m# e.g. _astype_nansafe can fail on object-dtype of strings\u001B[39;00m\n\u001B[1;32m    245\u001B[0m     \u001B[38;5;66;03m#  trying to convert to float\u001B[39;00m\n\u001B[1;32m    246\u001B[0m     \u001B[38;5;28;01mif\u001B[39;00m errors \u001B[38;5;241m==\u001B[39m \u001B[38;5;124m\"\u001B[39m\u001B[38;5;124mignore\u001B[39m\u001B[38;5;124m\"\u001B[39m:\n",
      "File \u001B[0;32m~/miniconda3/envs/pds/lib/python3.8/site-packages/pandas/core/dtypes/astype.py:187\u001B[0m, in \u001B[0;36mastype_array\u001B[0;34m(values, dtype, copy)\u001B[0m\n\u001B[1;32m    184\u001B[0m     values \u001B[38;5;241m=\u001B[39m values\u001B[38;5;241m.\u001B[39mastype(dtype, copy\u001B[38;5;241m=\u001B[39mcopy)\n\u001B[1;32m    186\u001B[0m \u001B[38;5;28;01melse\u001B[39;00m:\n\u001B[0;32m--> 187\u001B[0m     values \u001B[38;5;241m=\u001B[39m \u001B[43m_astype_nansafe\u001B[49m\u001B[43m(\u001B[49m\u001B[43mvalues\u001B[49m\u001B[43m,\u001B[49m\u001B[43m \u001B[49m\u001B[43mdtype\u001B[49m\u001B[43m,\u001B[49m\u001B[43m \u001B[49m\u001B[43mcopy\u001B[49m\u001B[38;5;241;43m=\u001B[39;49m\u001B[43mcopy\u001B[49m\u001B[43m)\u001B[49m\n\u001B[1;32m    189\u001B[0m \u001B[38;5;66;03m# in pandas we don't store numpy str dtypes, so convert to object\u001B[39;00m\n\u001B[1;32m    190\u001B[0m \u001B[38;5;28;01mif\u001B[39;00m \u001B[38;5;28misinstance\u001B[39m(dtype, np\u001B[38;5;241m.\u001B[39mdtype) \u001B[38;5;129;01mand\u001B[39;00m \u001B[38;5;28missubclass\u001B[39m(values\u001B[38;5;241m.\u001B[39mdtype\u001B[38;5;241m.\u001B[39mtype, \u001B[38;5;28mstr\u001B[39m):\n",
      "File \u001B[0;32m~/miniconda3/envs/pds/lib/python3.8/site-packages/pandas/core/dtypes/astype.py:105\u001B[0m, in \u001B[0;36m_astype_nansafe\u001B[0;34m(arr, dtype, copy, skipna)\u001B[0m\n\u001B[1;32m    100\u001B[0m     \u001B[38;5;28;01mreturn\u001B[39;00m lib\u001B[38;5;241m.\u001B[39mensure_string_array(\n\u001B[1;32m    101\u001B[0m         arr, skipna\u001B[38;5;241m=\u001B[39mskipna, convert_na_value\u001B[38;5;241m=\u001B[39m\u001B[38;5;28;01mFalse\u001B[39;00m\n\u001B[1;32m    102\u001B[0m     )\u001B[38;5;241m.\u001B[39mreshape(shape)\n\u001B[1;32m    104\u001B[0m \u001B[38;5;28;01melif\u001B[39;00m np\u001B[38;5;241m.\u001B[39missubdtype(arr\u001B[38;5;241m.\u001B[39mdtype, np\u001B[38;5;241m.\u001B[39mfloating) \u001B[38;5;129;01mand\u001B[39;00m is_integer_dtype(dtype):\n\u001B[0;32m--> 105\u001B[0m     \u001B[38;5;28;01mreturn\u001B[39;00m \u001B[43m_astype_float_to_int_nansafe\u001B[49m\u001B[43m(\u001B[49m\u001B[43marr\u001B[49m\u001B[43m,\u001B[49m\u001B[43m \u001B[49m\u001B[43mdtype\u001B[49m\u001B[43m,\u001B[49m\u001B[43m \u001B[49m\u001B[43mcopy\u001B[49m\u001B[43m)\u001B[49m\n\u001B[1;32m    107\u001B[0m \u001B[38;5;28;01melif\u001B[39;00m is_object_dtype(arr\u001B[38;5;241m.\u001B[39mdtype):\n\u001B[1;32m    108\u001B[0m     \u001B[38;5;66;03m# if we have a datetime/timedelta array of objects\u001B[39;00m\n\u001B[1;32m    109\u001B[0m     \u001B[38;5;66;03m# then coerce to datetime64[ns] and use DatetimeArray.astype\u001B[39;00m\n\u001B[1;32m    111\u001B[0m     \u001B[38;5;28;01mif\u001B[39;00m is_datetime64_dtype(dtype):\n",
      "File \u001B[0;32m~/miniconda3/envs/pds/lib/python3.8/site-packages/pandas/core/dtypes/astype.py:150\u001B[0m, in \u001B[0;36m_astype_float_to_int_nansafe\u001B[0;34m(values, dtype, copy)\u001B[0m\n\u001B[1;32m    146\u001B[0m \u001B[38;5;124;03m\"\"\"\u001B[39;00m\n\u001B[1;32m    147\u001B[0m \u001B[38;5;124;03mastype with a check preventing converting NaN to an meaningless integer value.\u001B[39;00m\n\u001B[1;32m    148\u001B[0m \u001B[38;5;124;03m\"\"\"\u001B[39;00m\n\u001B[1;32m    149\u001B[0m \u001B[38;5;28;01mif\u001B[39;00m \u001B[38;5;129;01mnot\u001B[39;00m np\u001B[38;5;241m.\u001B[39misfinite(values)\u001B[38;5;241m.\u001B[39mall():\n\u001B[0;32m--> 150\u001B[0m     \u001B[38;5;28;01mraise\u001B[39;00m IntCastingNaNError(\n\u001B[1;32m    151\u001B[0m         \u001B[38;5;124m\"\u001B[39m\u001B[38;5;124mCannot convert non-finite values (NA or inf) to integer\u001B[39m\u001B[38;5;124m\"\u001B[39m\n\u001B[1;32m    152\u001B[0m     )\n\u001B[1;32m    153\u001B[0m \u001B[38;5;28;01mif\u001B[39;00m dtype\u001B[38;5;241m.\u001B[39mkind \u001B[38;5;241m==\u001B[39m \u001B[38;5;124m\"\u001B[39m\u001B[38;5;124mu\u001B[39m\u001B[38;5;124m\"\u001B[39m:\n\u001B[1;32m    154\u001B[0m     \u001B[38;5;66;03m# GH#45151\u001B[39;00m\n\u001B[1;32m    155\u001B[0m     \u001B[38;5;28;01mif\u001B[39;00m \u001B[38;5;129;01mnot\u001B[39;00m (values \u001B[38;5;241m>\u001B[39m\u001B[38;5;241m=\u001B[39m \u001B[38;5;241m0\u001B[39m)\u001B[38;5;241m.\u001B[39mall():\n",
      "\u001B[0;31mIntCastingNaNError\u001B[0m: Cannot convert non-finite values (NA or inf) to integer"
     ]
    }
   ],
   "execution_count": 16
  },
  {
   "metadata": {},
   "cell_type": "code",
   "source": [
    "med_fused = llama70.copy()\n",
    "# fuse as the median, within the data\n",
    "_all_scores = pd.concat([llama70['relevance'], llama8['relevance'], gpt4_1['relevance'], gpt4_2['relevance']], axis=1)\n",
    "_all_scores.columns = ['llama70', 'llama8', 'gpt4_1', 'gpt4_2']\n",
    "med_fused['predicted'] = _all_scores.median(axis=1).round(0).astype(int)\n",
    "med_fused.to_csv('test-qrel-med-fused.txt', index=False, header=False, sep=' ')\n",
    "med_fused.value_counts('predicted')"
   ],
   "id": "498c6766e8d18713",
   "outputs": [],
   "execution_count": null
  },
  {
   "metadata": {},
   "cell_type": "code",
   "source": [
    "wavg_fused = llama70.copy()\n",
    "wavg_fused['predicted'] = ((0.25 * llama70['relevance'] + 0.15 * llama8['relevance'] + 0.3 * gpt4_1[\n",
    "    'relevance'] + 0.3 * gpt4_2['relevance'])).round(0).astype(int)\n",
    "wavg_fused.to_csv('test-qrel-wavg-fused.txt', index=False, header=False, sep=' ')\n",
    "wavg_fused.value_counts('predicted')"
   ],
   "id": "608d67b24884bece",
   "outputs": [],
   "execution_count": null
  },
  {
   "metadata": {},
   "cell_type": "code",
   "source": [
    "gpt_avg_fused = llama70.copy()\n",
    "gpt_avg_fused['predicted'] = ((0.5 * gpt4_1['relevance'] + 0.5 * gpt4_2['relevance'])).round(0).astype(int)\n",
    "gpt_avg_fused.to_csv('test-qrel-gpt-avg-fused.txt', index=False, header=False, sep=' ')\n",
    "gpt_avg_fused.value_counts('predicted')"
   ],
   "id": "efe7436f88ab74cf",
   "outputs": [],
   "execution_count": null
  }
 ],
 "metadata": {
  "kernelspec": {
   "display_name": "Python 3",
   "language": "python",
   "name": "python3"
  },
  "language_info": {
   "codemirror_mode": {
    "name": "ipython",
    "version": 2
   },
   "file_extension": ".py",
   "mimetype": "text/x-python",
   "name": "python",
   "nbconvert_exporter": "python",
   "pygments_lexer": "ipython2",
   "version": "2.7.6"
  }
 },
 "nbformat": 4,
 "nbformat_minor": 5
}
